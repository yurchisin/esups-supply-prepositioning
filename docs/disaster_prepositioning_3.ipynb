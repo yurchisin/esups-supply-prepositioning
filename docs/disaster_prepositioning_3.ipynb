{
 "cells": [
  {
   "cell_type": "markdown",
   "metadata": {},
   "source": [
    "## Optimizing!\n",
    "\n",
    "Before we dive into modeling the ESUPS optimization problem, here is quick overview of some sub-notebooks provided:\n",
    "* 3.A Introduction to Modeling Optimization Problems\n",
    "* 3.B More on Expected Value"
   ]
  },
  {
   "cell_type": "markdown",
   "metadata": {},
   "source": [
    "### 3.1 Intro to the ESUPS Optimization Model\n"
   ]
  },
  {
   "cell_type": "markdown",
   "metadata": {},
   "source": [
    "We'll start with a simplified version of the model, and we'll build from there.\n",
    "\n",
    "Consider the scenario where we're expecting to have a disaster and want to pre-position supplies in order to respond as quickly as possible. Perhaps it's hurricane season or a volcano has been showing increasing activity. As we have seen in past problems, we have to set up the variables, constraints, and objective functions. \n",
    "\n",
    "First, we list the input data we have:\n",
    "- $I$ is the set of warehouses\n",
    "- $\\tau_i$ is the time to ship a single item from warehouse $i \\in I$ to the disaster\n",
    "- $s_i$ is the starting inventory (supply) at each warehouse $i \\in I$\n",
    "- $d$ is the demand we need to satisfy, i.e., the number of items we need to ship to the disaster\n",
    "\n",
    "Then, let's define our decision variables, i.e. the things we can vary.\n",
    "- $y_i$ is the amount of supplies to send from warehouse $i \\in I$ to our disaster\n",
    "\n",
    "\n",
    "Now that we have described what we can change with our variables, we can figure out how to represent the objective function!\n",
    "$$\n",
    "\\min \\sum_{i \\in I} \\tau_{i} \\cdot y_i\n",
    "$$\n",
    "and the constraints are:\n",
    "$$\n",
    "\\begin{aligned}\n",
    "\\text{s.t.}  & \\sum_{i \\in I} & y_{i} & = d & & \\quad \\text{(total supplies sent must meet demand)}\\\\\n",
    "& & y_i       & \\leq s_i & \\forall i \\in I & \\quad \\text{(you can't send more than a warehouse has)}\\\\\n",
    " &\\text{} & y_{i} & \\geq 0 &\\forall i \\in I & \\quad \\text{(you can't send negative supplies)}\n",
    "\\end{aligned}\n",
    "$$\n",
    "\n",
    "So now let's solve this model. \n",
    "\n",
    "#### Make the Model"
   ]
  },
  {
   "cell_type": "code",
   "execution_count": 1,
   "metadata": {},
   "outputs": [
    {
     "name": "stdout",
     "output_type": "stream",
     "text": [
      "Set parameter WLSAccessID\n",
      "Set parameter WLSSecret\n",
      "Set parameter LicenseID to value 871293\n",
      "WLS license 871293 - registered to Gurobi Optimization\n",
      "Gurobi Optimizer version 12.0.1 build v12.0.1rc0 (linux64 - \"Ubuntu 24.04.2 LTS\")\n",
      "\n",
      "CPU model: Intel(R) Core(TM) i7-8665U CPU @ 1.90GHz, instruction set [SSE2|AVX|AVX2]\n",
      "Thread count: 4 physical cores, 8 logical processors, using up to 8 threads\n",
      "\n",
      "WLS license 871293 - registered to Gurobi Optimization\n",
      "Optimize a model with 17 rows, 16 columns and 32 nonzeros\n",
      "Model fingerprint: 0x37d66425\n",
      "Coefficient statistics:\n",
      "  Matrix range     [1e+00, 1e+00]\n",
      "  Objective range  [6e+00, 3e+01]\n",
      "  Bounds range     [0e+00, 0e+00]\n",
      "  RHS range        [3e+00, 1e+04]\n",
      "Presolve removed 16 rows and 2 columns\n",
      "Presolve time: 0.06s\n",
      "Presolved: 1 rows, 14 columns, 14 nonzeros\n",
      "\n",
      "Iteration    Objective       Primal Inf.    Dual Inf.      Time\n",
      "       0    0.0000000e+00   1.691875e+03   0.000000e+00      0s\n",
      "       1    9.8293000e+04   0.000000e+00   0.000000e+00      0s\n",
      "\n",
      "Solved in 1 iterations and 0.09 seconds (0.00 work units)\n",
      "Optimal objective  9.829300000e+04\n"
     ]
    }
   ],
   "source": [
    "import gurobipy as gp\n",
    "from gurobipy import GRB\n",
    "import pandas as pd\n",
    "\n",
    "simple_Allocation = pd.read_csv(\"data/simple_Allocation.csv\")\n",
    "\n",
    "# Prep data\n",
    "BucketsNeeded = 13561\n",
    "n = len(simple_Allocation)\n",
    "t = simple_Allocation.drivingTime_hrs\n",
    "b = simple_Allocation.Buckets\n",
    "\n",
    "# Create model\n",
    "model = gp.Model(\"simple_Allocation\")\n",
    "\n",
    "# Add decision variables\n",
    "y = model.addVars(n, name=\"Warehouse_Allocation\")\n",
    "\n",
    "# Add constraint to meet demand\n",
    "model.addConstr(\n",
    "    gp.quicksum(y[i] for i in range(n)) == BucketsNeeded, name=\"Meet_Demand\"\n",
    ")\n",
    "\n",
    "# Add in warehouse_constraints\n",
    "for i in range(n):\n",
    "    model.addConstr(y[i] <= b[i], name=f\"warehouse_endowment_{i}\")\n",
    "\n",
    "# Note we don't have a constraint for y >= 0 since it's assumed in the variable definition\n",
    "# Add objective\n",
    "objective = gp.quicksum(t[i] * y[i] for i in range(n))\n",
    "model.setObjective(objective, GRB.MINIMIZE)\n",
    "\n",
    "# Fire up the solver!\n",
    "model.optimize()"
   ]
  },
  {
   "cell_type": "markdown",
   "metadata": {},
   "source": [
    "Now Let's Anaylize the results!"
   ]
  },
  {
   "cell_type": "code",
   "execution_count": null,
   "metadata": {},
   "outputs": [
    {
     "data": {
      "text/html": [
       "<div>\n",
       "<style scoped>\n",
       "    .dataframe tbody tr th:only-of-type {\n",
       "        vertical-align: middle;\n",
       "    }\n",
       "\n",
       "    .dataframe tbody tr th {\n",
       "        vertical-align: top;\n",
       "    }\n",
       "\n",
       "    .dataframe thead th {\n",
       "        text-align: right;\n",
       "    }\n",
       "</style>\n",
       "<table border=\"1\" class=\"dataframe\">\n",
       "  <thead>\n",
       "    <tr style=\"text-align: right;\">\n",
       "      <th></th>\n",
       "      <th>depotCity</th>\n",
       "      <th>drivingTime_hrs</th>\n",
       "      <th>Buckets</th>\n",
       "      <th>y</th>\n",
       "    </tr>\n",
       "  </thead>\n",
       "  <tbody>\n",
       "    <tr>\n",
       "      <th>1</th>\n",
       "      <td>Ambatondrazaka</td>\n",
       "      <td>0.00</td>\n",
       "      <td>26</td>\n",
       "      <td>26.0</td>\n",
       "    </tr>\n",
       "    <tr>\n",
       "      <th>4</th>\n",
       "      <td>Antananarivo Renivohitra</td>\n",
       "      <td>6.00</td>\n",
       "      <td>9046</td>\n",
       "      <td>9046.0</td>\n",
       "    </tr>\n",
       "    <tr>\n",
       "      <th>11</th>\n",
       "      <td>Miarinarivo</td>\n",
       "      <td>7.00</td>\n",
       "      <td>3</td>\n",
       "      <td>3.0</td>\n",
       "    </tr>\n",
       "    <tr>\n",
       "      <th>14</th>\n",
       "      <td>Toamasina I</td>\n",
       "      <td>8.00</td>\n",
       "      <td>1580</td>\n",
       "      <td>1580.0</td>\n",
       "    </tr>\n",
       "    <tr>\n",
       "      <th>5</th>\n",
       "      <td>Antsohihy</td>\n",
       "      <td>10.00</td>\n",
       "      <td>610</td>\n",
       "      <td>610.0</td>\n",
       "    </tr>\n",
       "    <tr>\n",
       "      <th>2</th>\n",
       "      <td>Ambositra</td>\n",
       "      <td>11.00</td>\n",
       "      <td>41</td>\n",
       "      <td>0.0</td>\n",
       "    </tr>\n",
       "    <tr>\n",
       "      <th>7</th>\n",
       "      <td>Fenerive Est</td>\n",
       "      <td>11.00</td>\n",
       "      <td>6689</td>\n",
       "      <td>2296.0</td>\n",
       "    </tr>\n",
       "    <tr>\n",
       "      <th>0</th>\n",
       "      <td>Ambanja</td>\n",
       "      <td>14.00</td>\n",
       "      <td>375</td>\n",
       "      <td>0.0</td>\n",
       "    </tr>\n",
       "    <tr>\n",
       "      <th>9</th>\n",
       "      <td>Maintirano</td>\n",
       "      <td>14.25</td>\n",
       "      <td>2460</td>\n",
       "      <td>0.0</td>\n",
       "    </tr>\n",
       "    <tr>\n",
       "      <th>8</th>\n",
       "      <td>Mahajanga I</td>\n",
       "      <td>16.00</td>\n",
       "      <td>150</td>\n",
       "      <td>0.0</td>\n",
       "    </tr>\n",
       "    <tr>\n",
       "      <th>12</th>\n",
       "      <td>Morondava</td>\n",
       "      <td>16.00</td>\n",
       "      <td>736</td>\n",
       "      <td>0.0</td>\n",
       "    </tr>\n",
       "    <tr>\n",
       "      <th>10</th>\n",
       "      <td>Manakara</td>\n",
       "      <td>17.00</td>\n",
       "      <td>4235</td>\n",
       "      <td>0.0</td>\n",
       "    </tr>\n",
       "    <tr>\n",
       "      <th>6</th>\n",
       "      <td>Farafangana</td>\n",
       "      <td>19.00</td>\n",
       "      <td>5201</td>\n",
       "      <td>0.0</td>\n",
       "    </tr>\n",
       "    <tr>\n",
       "      <th>15</th>\n",
       "      <td>Toliara</td>\n",
       "      <td>22.00</td>\n",
       "      <td>1637</td>\n",
       "      <td>0.0</td>\n",
       "    </tr>\n",
       "    <tr>\n",
       "      <th>13</th>\n",
       "      <td>Sambava</td>\n",
       "      <td>23.00</td>\n",
       "      <td>5700</td>\n",
       "      <td>0.0</td>\n",
       "    </tr>\n",
       "    <tr>\n",
       "      <th>3</th>\n",
       "      <td>Ambovombe</td>\n",
       "      <td>26.00</td>\n",
       "      <td>2322</td>\n",
       "      <td>0.0</td>\n",
       "    </tr>\n",
       "  </tbody>\n",
       "</table>\n",
       "</div>"
      ],
      "text/plain": [
       "                   depotCity  drivingTime_hrs  Buckets       y\n",
       "1             Ambatondrazaka             0.00       26    26.0\n",
       "4   Antananarivo Renivohitra             6.00     9046  9046.0\n",
       "11               Miarinarivo             7.00        3     3.0\n",
       "14               Toamasina I             8.00     1580  1580.0\n",
       "5                  Antsohihy            10.00      610   610.0\n",
       "2                  Ambositra            11.00       41     0.0\n",
       "7               Fenerive Est            11.00     6689  2296.0\n",
       "0                    Ambanja            14.00      375     0.0\n",
       "9                 Maintirano            14.25     2460     0.0\n",
       "8                Mahajanga I            16.00      150     0.0\n",
       "12                 Morondava            16.00      736     0.0\n",
       "10                  Manakara            17.00     4235     0.0\n",
       "6                Farafangana            19.00     5201     0.0\n",
       "15                   Toliara            22.00     1637     0.0\n",
       "13                   Sambava            23.00     5700     0.0\n",
       "3                  Ambovombe            26.00     2322     0.0"
      ]
     },
     "execution_count": 2,
     "metadata": {},
     "output_type": "execute_result"
    }
   ],
   "source": [
    "y_sol = []\n",
    "for i in range(n):\n",
    "    y_sol.append(y[i].X)\n",
    "simple_Allocation_sol = simple_Allocation.copy()\n",
    "simple_Allocation_sol[\"y\"] = y_sol\n",
    "simple_Allocation_sol.sort_values(\"drivingTime_hrs\")"
   ]
  },
  {
   "cell_type": "markdown",
   "metadata": {},
   "source": [
    "Now you may have noticed that this feels like overkill. If we want to position supplies to respond to a known disaster, you might think that we should just put them as close as possible. It's an intuitive solution that can be solved with a simple greedy algorithm. But of course, life is never that simple. \n",
    "\n",
    "Now that we've got the initial problem outlined, let's start making it more realistic with two additions:\n",
    "1.\tInstead of preparing for only one disaster, let's prepare for all the disasters that might occur.\n",
    "2.\tInstead of being an omniscient observer, let's say we aren't sure where the next disaster will be\n",
    "\n",
    "\n"
   ]
  },
  {
   "cell_type": "markdown",
   "metadata": {},
   "source": [
    "Now, these assumptions might be intimidating at first. How do you rigorously model information we don't know? Isn't this the realm of predictive models?\n",
    "\n",
    "This reaction is totally normal and indeed we often use predictive modeling when our information is incomplete, however, remember that this problem isn't easily suited to ML techniques due to the low availability of data, small feature space, and large solution space. So how do we approach this with optimization? Well now that we know how supplies will be dispensed for a given warehouse allocation, we can leverage the small set of historical disasters we do have to ask which allocations would have saved/minimized the time taken to respond to all of the disasters. Then our optimization techniques will give us a small number that could feasibly satisfy this (where our constraints meet, see the introduction for more on this) and we can just iterate over them.\n",
    "\n",
    "So how do we go about it in practice?"
   ]
  },
  {
   "cell_type": "markdown",
   "metadata": {},
   "source": [
    "### 2.3 Including All Disasters"
   ]
  },
  {
   "cell_type": "markdown",
   "metadata": {},
   "source": [
    "Before we begin, let's explicitly define our new problem with the additional requirements outlined in the previous section so we're all on the same page. Our first step is to add in the fact that there are more disasters than just one. We can do that by including a variable to denote which disaster we're talking about\n",
    "\n",
    "Let:\n",
    "\n",
    "- $k$ the disaster scenario at hand i.e. a storm, earthquake, or epidemic\n",
    "\n",
    "- $j$ be the location of the disaster"
   ]
  },
  {
   "cell_type": "markdown",
   "metadata": {},
   "source": [
    "In scenario $k$ with the disaster located at $j$, the time for a warehouse $i$  to send $y_i$ items is "
   ]
  },
  {
   "cell_type": "markdown",
   "metadata": {},
   "source": [
    " $$\\tau_{ij}\\cdot y^k_i$$"
   ]
  },
  {
   "cell_type": "markdown",
   "metadata": {},
   "source": [
    "Repeating for all warehouses gives us"
   ]
  },
  {
   "cell_type": "markdown",
   "metadata": {},
   "source": [
    "$$  \\sum_i \\tau_{ij}\\cdot y^k_i $$\n"
   ]
  },
  {
   "cell_type": "markdown",
   "metadata": {},
   "source": [
    "Repeating for all disasters gives us"
   ]
  },
  {
   "cell_type": "markdown",
   "metadata": {},
   "source": [
    "$$ \\sum_k \\sum_i \\tau_{ij}\\cdot y^k_i $$\n"
   ]
  },
  {
   "cell_type": "markdown",
   "metadata": {},
   "source": [
    "This formulation doesn't change any of the solutions we found in the last section, instead, it's leveraging the power of our notation to be able to solve for the optimal allocation for every disaster in one fell swoop! It's been a while since we looked at the original problem in its entirety, so let's take a step back to understand why this is so important.\n",
    "\n",
    "The question that ESUPS, and subsequently this model, set out to solve is: where should disaster relief supplies be stored in a country to ensure it is as fast and cheap as possible to get them to people in need in the event of a disaster<sup>1</sup>? By comparing the overall travel time for every single disaster that we have data on, we can make determinations on whether storing different quantities of materials in different warehouses would be better or worse given our historical data.\n",
    "\n",
    "\n",
    "<sup>1: Remember that the model we're looking at is specifically for time, to solve for cost we would replace our time variable with a cost variable  </sup> $^{\\tau_{ij}}$ <sup>with a cost variable </sup> $^{c_{ij}}$"
   ]
  },
  {
   "cell_type": "markdown",
   "metadata": {},
   "source": [
    "Before we get to solving, let's add in one more small factor. Different disasters occur at different rates. A landlocked nation may be less likely to experience a disaster caused by a tropical storm than an earthquake, so shouldn't we weigh the response time to earthquakes more than that of a storm?"
   ]
  },
  {
   "cell_type": "markdown",
   "metadata": {},
   "source": [
    "### 2.4 Accounting for Randomness"
   ]
  },
  {
   "cell_type": "markdown",
   "metadata": {},
   "source": [
    "One of the most difficult tasks that we can encounter in data science problems is randomness or as it's often called \"stochastic\" elements. This can be seen in all kinds of ways, but in our case study, we're going to look at how we account for not knowing which disaster will hit next or even several years in the future. The way we do this is to create a stochastic model, which may initially seem intimidating, but in discrete events like this, it's super easy.\n",
    "\n",
    "If you're familiar with expected value this will quickly make sense, but no need to have any prior experience! The idea is that we weigh the outcome of the event (i.e. total travel time in this case) by the probability it occurs. So, if an earthquake is 3 times as likely as a flood, we would rewrite the equation as:\n",
    "\n",
    "$$.75 \\cdot\\text{(travel time earthquake)} + .25 \\cdot\\text{(travel time flood)} $$\n"
   ]
  },
  {
   "cell_type": "markdown",
   "metadata": {},
   "source": [
    "#### The Model"
   ]
  },
  {
   "cell_type": "markdown",
   "metadata": {},
   "source": [
    "Now that we've had some background on expected value, let's return to our model! Remeber out goal is to account for the inherent randomness associated with diffrent disaster occuring  \n",
    "\n",
    "Let $P^k$ be the probability of disaster $k$ and $t^k$ be the total travel time involved in disaster $k$ in the previous sections. Using our definition of expected value, this gives us\n",
    "\n",
    "$$ \\sum_k P^k \\cdot t^k$$\n",
    "\n",
    "Now you might notice that we have already written an equation for the total travel time for disaster $k$ ! Substituting this in we get\n",
    "\n",
    "$$\\sum_k P^k \\sum_i \\tau_{ij}\\cdot y^k_i$$\n",
    "\n",
    "So, you can see, in our case turning this problem into a stochastic optimization problem that can account for probability only involves one more variable. So, our final task right now is to minimize the time required to get supplies to a disaster given how likely each disaster is to occur:"
   ]
  },
  {
   "cell_type": "markdown",
   "metadata": {},
   "source": [
    "\n",
    "$$\n",
    "\\min_y \\sum_k P^k \\sum_i \\tau_{ij}\\cdot y^k_i\n",
    "\n",
    "$$"
   ]
  },
  {
   "cell_type": "markdown",
   "metadata": {},
   "source": [
    "And we can see the constraints are almost unchanged. The only added part is that all probabilities must sum to one, which is always the case:\n",
    "$$\n",
    "\\begin{aligned}\n",
    "\n",
    "\n",
    "\\text{s.t.}  & \\sum_{i} & y^k_{i}&=d^k & & \\hspace{.2cm} \\text{(total supplies sent must meet demand)}\\\\\n",
    "\n",
    "& & y^k_i       &\\leq x_i & \\forall i \\in I& \\hspace{.2cm}\\text{(you can't send more than a warehouse has)}\\\\\n",
    "\n",
    " &\\text{} & y^k_{i} &\\geq 0 &\\forall i \\in I& \\hspace{.2cm} \\text{(you can't send negative supplies)}\\\\\n",
    "\n",
    "& \\sum_k & P^k &=1 && \\hspace{.2cm} \\text{(All probabilities must sum to 1)}\\\\\n",
    "\n",
    "\n",
    "\\end{aligned}\n",
    "$$"
   ]
  },
  {
   "cell_type": "markdown",
   "metadata": {},
   "source": [
    "How do we calculate the probability though? Well, we have good long-term data on what disasters have affected which countries. For now, we can go through that data and calculate the probability of disaster k by counting how many times it has occurred and dividing by the number of total disasters i.e.\n",
    "\n",
    "$$ P^k = \\frac{k}{\\|K\\|}$$\n",
    "\n",
    "You may have noticed that every single disaster will have the same probability, or in other words, this will produce a uniform distribution. As a result, $P^k$ is a constant and can effectively be removed, so our new equation will give the exact same results as our old one. We'll talk about ways to potentially address this later on in the notebooks as an extension, but for the moment, the purpose of adding this is to show how easily the equation can be modified to be stochastic and to get users used to the idea."
   ]
  },
  {
   "cell_type": "markdown",
   "metadata": {},
   "source": [
    "So now that we have the equation, we can let the model go ahead and let Gurobi solve it for us"
   ]
  },
  {
   "cell_type": "markdown",
   "metadata": {},
   "source": [
    "We will start using ```with``` statements to accomidate the model's growing size and need for our License"
   ]
  },
  {
   "cell_type": "code",
   "execution_count": null,
   "metadata": {},
   "outputs": [],
   "source": [
    "demand, probs = get_probs(dataset)\n",
    "\n",
    "n = len(relevant_warehouses)\n",
    "m = len(demand)\n",
    "a = []\n",
    "\n",
    "# Create an array of driving times based on the df_distance DataFrame\n",
    "t = [int(row[\"drivingTime_hrs\"]) for i, row in df_distance.iterrows()]\n",
    "c = pd.DataFrame(t)\n",
    "print(t)\n",
    "\n",
    "# Amount to take per Warehouse\n",
    "y = model.addVars(m, n, vtype=GRB.INTEGER, name=\"Warehouse_Allocation\")\n",
    "\n",
    "# Add constraints to meet demand for each disaster scenario (k)\n",
    "for k in range(m):\n",
    "    # Demand constraints\n",
    "    model.addConstr(\n",
    "        gp.quicksum(y[k, i] for i in range(n)) == demand[k], name=f\"Meet_Demand_K:{k}\"\n",
    "    )\n",
    "\n",
    "    # Warehouse constraints\n",
    "    for i, supplies in enumerate(relevant_warehouses):\n",
    "        model.addConstr(y[k, i] <= supplies[2], name=f\"warehouse_endowment_K:{k}_I:{i}\")\n",
    "\n",
    "# Objective function to minimize the weighted driving time using T as a parameter\n",
    "objective = gp.quicksum(\n",
    "    probs[k] * gp.quicksum(t[i] * y[k, i] for i in range(n)) for k in range(m)\n",
    ")\n",
    "\n",
    "# Optimize model\n",
    "model.setObjective(objective, GRB.MINIMIZE)\n",
    "model.optimize()\n",
    "\n",
    "# Store results in the list 'a'\n",
    "for v in model.getVars():\n",
    "    a.append([v.VarName, v.X])"
   ]
  },
  {
   "cell_type": "code",
   "execution_count": null,
   "metadata": {},
   "outputs": [],
   "source": [
    "pd.DataFrame(a).iloc[:15]"
   ]
  },
  {
   "cell_type": "markdown",
   "metadata": {},
   "source": [
    "### 2.5 Data Science Extension"
   ]
  },
  {
   "cell_type": "markdown",
   "metadata": {},
   "source": [
    "We've seen how the equation uses the uniform distribution to solve the problem, but what if we knew something it didn't? What if knowing that climate change is increasingly energizing large storms, we decide the past hurricane impacts aren't representative of what's to come? In this section we want to prompt you to come up with predictive elements to improve our models. Feel free to use some of the ideas below or go in an entirely new direction!\n",
    "\n",
    "In this section, we encourage you to think creatively about enhancing predictive models for climate-related disasters. Consider how to incorporate novel data sources, feature engineering techniques, and model architectures to improve predictions. Below are some suggested approaches, but feel free to explore entirely new directions!\n",
    "\n",
    "Case Study Focus: Coastal Eastern African Nations\n",
    "\n",
    "Using the disaster impact data for coastal Eastern African nations, can you develop a model to predict how these impacts might escalate for Madagascar in the coming years? Consider not only the historical data but also factors such as changes in sea surface temperatures, shifting storm tracks, population growth along vulnerable coastlines, and evolving infrastructure resilience. Further, can you integrate this predictive model into an optimization framework to better allocate resources for disaster preparedness and response?\n",
    "\n",
    "Potential Approaches to Explore:\n",
    "1. Comparing Time Series Models: Traditional statistical time series models like ARIMAX (AutoRegressive Integrated Moving Average with Explanatory Variables) are commonly used to predict future values based on past data. How do these models compare with more advanced Recurrent Neural Network (RNN)-based approaches like Long Short-Term Memory (LSTM) networks or Gated Recurrent Units (GRUs) in capturing long-term dependencies, especially under non-stationary conditions induced by climate change?\n",
    "\n",
    "2.\tIncorporating Geospatial Data: Geospatial features, such as latitude, longitude, elevation, and proximity to bodies of water, can play a crucial role in predicting the impact of tropical storms. Can we encode geospatial information using techniques like convolutional neural networks (CNNs) for spatial feature extraction, or leverage more specialized models such as Geographical Weighted Regression (GWR) or Graph Neural Networks (GNNs) to account for spatial dependencies?\n",
    "\n",
    "3.\tIncorporating Climate Change Projections: Beyond just historical data, consider how future climate projections can be integrated into the model. Can we use downscaled climate model outputs or ensemble approaches to account for different climate scenarios? How would these scenarios affect the frequency and intensity of tropical storms affecting coastal Eastern African nations?\n",
    "\n",
    "4.\tFeature Engineering with Climate Indicators: Introduce climate change indicators as predictive features. For example, how do trends in sea surface temperatures (SSTs), El Niño-Southern Oscillation (ENSO) phases, or the Atlantic Multi-decadal Oscillation (AMO) correlate with storm intensification? Would incorporating these indicators as additional time series variables enhance predictive accuracy?\n",
    "\t\n",
    "5.\tHybrid and Ensemble Models: Can we leverage hybrid models that combine both statistical and deep learning approaches, or use ensemble methods that aggregate predictions from multiple models? For example, combining ARIMAX for short-term predictions with LSTM for capturing long-term trends may provide a more comprehensive forecasting tool.\n",
    "\n",
    "6.\tOptimization Integration: Once a reliable predictive model is established, how can it be integrated into an optimization framework for resource allocation? For example, can we build an optimization model that minimizes both the cost of disaster preparedness and the potential loss from future storm impacts?\n",
    "\n",
    "7.\tModel Explainability and Decision-Making: How can we ensure that the model is interpretable for decision-makers? Consider the use of techniques like SHAP (SHapley Additive exPlanations) values or LIME (Local Interpretable Model-agnostic Explanations) to explain which factors contribute most to the model’s predictions, helping policymakers make informed decisions.\n",
    "\n",
    "By combining predictive analytics with optimization, we can not only forecast future disaster impacts but also develop actionable strategies for minimizing those impacts. The goal is to make our models both more accurate and more useful in real-world applications, driving better outcomes for communities at risk.\n"
   ]
  },
  {
   "cell_type": "markdown",
   "metadata": {},
   "source": [
    "### 2.6 Processing the Results: 2-Stage SLP"
   ]
  },
  {
   "cell_type": "markdown",
   "metadata": {},
   "source": [
    "Great, now that we can solve for the time it takes to address every single disaster, we can finally answer the original question posed: how do we best allocate supplies to all the warehouses? The key here is to create a second optimization problem. Remember how in our constraints we included that you can't send more than the warehouse has? \n",
    "\n",
    "$$\n",
    "y^k_i       \\leq x_i  \\forall i \\in I \\hspace{.2cm}\\text{(you can't send more than a warehouse has)}\\\\\n",
    "$$\n",
    "\n",
    "So far, we've just been using the actual allocation we have at each warehouse for $x_i$. But what if those changes? Suddenly we would have an entirely new solution. So, if we say that the output of Gurobi (i.e. the allocations $y^k_i \\in Y$) is some function based on our starting amount warehouses ($X$ where $x_i\\in X$), then we can say\n",
    "\n",
    "$$Y=f(X)$$ \n",
    "\n",
    "And when we frame it this way, it becomes much more simple to solve! All we need to do is minimize the travel times $Y$. In other words, our problem becomes \n",
    "\n",
    "\n",
    "$$ \\min_{X} f(X) $$\n",
    "$$\\begin{aligned}\n",
    "\\text{s.t.}  & \\sum_{i} & x_i&=\\chi & & \\hspace{.2cm} \\text{(we allocate all supplies and no more)}\\\\\n",
    "\n",
    " && x_{i} &\\geq 0 &\\forall i \\in I& \\hspace{.2cm} \\text{(you can't allocate negative supplies)}\\\\\n",
    "\n",
    "\\end{aligned}$$\n",
    "\n",
    "Where $\\chi$ is the total amount of supplies we have in the country\n",
    "\n"
   ]
  },
  {
   "cell_type": "markdown",
   "metadata": {},
   "source": [
    "While this may initially look intimidating, it is one of the easiest changes to make to our current code. All we are doing is making a variable instead of a constraint and then constraining it. Let’s substitute back in our equation from the last section with the new constraints to see this firsthand. To denote a new decision variable (i.e. a variable that can be changed), all we need to do is add it under the minimization sign. This means minimizing with respect to $X$ and $Y$\n",
    "\n",
    "$$\n",
    "\\min_{X,Y} \\sum_k P^k \\sum_i \\tau_{ij}\\cdot y^k_i\n",
    "$$\n",
    "\n",
    "Then all we need to do is update the constraints. I've included the line to make it easier to see what's new as our list grows. It has no mathematical significance. \n",
    "So how do we Implement this in Gurobi?\n",
    "\n",
    "$$\n",
    "\\begin{aligned}\n",
    "\n",
    "\n",
    "\\text{s.t.}  & \\sum_{i} & y^k_{i}&=d^k & & \\hspace{.2cm} \\text{(total supplies sent must meet demand)}\\\\\n",
    "\n",
    "& & y^k_i       &\\leq x_i & \\forall i \\in I& \\hspace{.2cm}\\text{(you can't send more than a warehouse has)}\\\\\n",
    "\n",
    " &\\text{} & y^k_{i} &\\geq 0 &\\forall i \\in I& \\hspace{.2cm} \\text{(you can't send negative supplies)}\\\\\n",
    "\n",
    "& \\sum_k & P^k &=1 && \\hspace{.2cm} \\text{(All probabilities must sum to 1)}\\\\\n",
    "\n",
    "\\hline \\\\\n",
    "\n",
    "  & \\sum_{i} & x_i&=\\chi & & \\hspace{.2cm} \\text{(we allocate all supplies and no more)}\\\\\n",
    "\n",
    " && x_{i} &\\geq 0 &\\forall i \\in I& \\hspace{.2cm} \\text{(you can't allocate negative supplies)}\\\\\n",
    "\n",
    "\n",
    "\\end{aligned}\n",
    "$$\n",
    "\n"
   ]
  },
  {
   "cell_type": "markdown",
   "metadata": {},
   "source": [
    "So how do we implement this in Gurobi?"
   ]
  },
  {
   "cell_type": "code",
   "execution_count": null,
   "metadata": {},
   "outputs": [],
   "source": [
    "model = gp.Model(\"full_allocation\")\n",
    "\n",
    "n = len(relevant_warehouses)\n",
    "m = len(demand)\n",
    "\n",
    "# Create an array of driving times based on the df_distance DataFrame\n",
    "t = df_distance.drivingTime_hrs\n",
    "\n",
    "# Amount to take per Warehouse\n",
    "y = model.addVars(m, n, vtype=GRB.INTEGER, name=\"Single_Warehouse_Allocation\")\n",
    "\n",
    "# National Allocation\n",
    "X = model.addVars(n, vtype=GRB.INTEGER, name=\"National_Allocation\")\n",
    "\n",
    "# Total national endowment constraint\n",
    "model.addConstr(\n",
    "    gp.quicksum(X[i] for i in range(n)) == 40811, name=\"Total_National_Endowment\"\n",
    ")\n",
    "\n",
    "for k in range(m):\n",
    "    model.addConstr(y[k, i] <= X[i])\n",
    "\n",
    "# Demand and warehouse constraints for each scenario\n",
    "for k in range(m):\n",
    "    model.addConstr(\n",
    "        gp.quicksum(y[k, i] for i in range(n)) == demand[k], name=f\"Meet_Demand_K:{k}\"\n",
    "    )\n",
    "    for i, supplies in enumerate(relevant_warehouses):\n",
    "        model.addConstr(y[k, i] <= supplies[2], name=f\"warehouse_endowment_K:{k}_I:{i}\")\n",
    "\n",
    "# Objective function to minimize the weighted driving time using T as a parameter\n",
    "objective = gp.quicksum(\n",
    "    probs[k] * gp.quicksum(t[i] * y[k, i] for i in range(n)) for k in range(m)\n",
    ")\n",
    "\n",
    "# Optimize model\n",
    "model.setObjective(objective, GRB.MINIMIZE)\n",
    "model.optimize()"
   ]
  },
  {
   "cell_type": "markdown",
   "metadata": {},
   "source": [
    "### 2.7 A Few Final Tidbits"
   ]
  },
  {
   "cell_type": "markdown",
   "metadata": {},
   "source": [
    "Now that we have our overall framework, we can extend it fairly easily to better model real-life scenarios. Let's look at two final pieces of the puzzle that ESUPS considers in their model:"
   ]
  },
  {
   "cell_type": "markdown",
   "metadata": {},
   "source": [
    "**Cost**\n",
    "\n",
    "Along with how long it takes to get items to a disaster relief site, it's also important to consider the cost to accomplish it. It might be a few hours faster to charter a jet to deliver blankets in the aftermath of a disaster, however, if it is 100x more expensive than by truck, that may constrain the organization from buying more blankets, chartering more trucks, or making it difficult to resupply for future disasters. So just as we solve for ways to minimize time, it can be important for firms with limited resources to make sure their money is being used to do the most good it can.\n",
    "\n",
    "So how do we do this? It's fairly simple. Our time matrix, which we've been using to show how close or far buildings are from the disaster relief site, is just a set of predefined weights/discounts. So, if we change the numbers to reflect the cost of transit, then suddenly we're solving a cost-minimization problem! In fact, the substitution is so one-to-one, that besides switching $\\tau_{ij}$ for $c_{ij}$, we don't have to change the equation."
   ]
  },
  {
   "cell_type": "markdown",
   "metadata": {},
   "source": [
    "**Travel Mode**\n",
    "\n",
    "The second additional facet considered in our real-life model that we haven't encountered yet is transportation mode. We alluded to it a little in the cost section, but often there is the option to fly or ship goods into a region, which can be especially useful when far away or the roads are clogged or otherwise unusable (such is often the case after a disaster).\n",
    "\n",
    "So how do we implement this? Well let's take a look back at $y_i^k$, our variable which says how many goods to send from warehouse $i$ to disaster $k$. All we want to do is reflect and updated description: how many goods to send from warehouse $i$ to disaster $k$ via mode $r$. This can easily be represented as $y_{ir}^k$, let's explain what's happened. Before is $y$ was an array of length $K$ with each index holding sub array of length $I$ (which we could also write as size $K \\times I$), now each index in our subarrays also have an array of length $3$ to represent how much is sent via truck, plane, or boat. So our final array is of dimensions $K \\times I \\times R $. This may seem intimidating at first, but remember, adding a dimension just means adding one more nested for loop!\n",
    "\n",
    "Let's look at how we would implement this. Remember, from a math point of view, all we've done is say $y_i^k$ can be broken down into $3$ modes instead of 1. So, it's rewritten as"
   ]
  },
  {
   "cell_type": "markdown",
   "metadata": {},
   "source": [
    "\n",
    "$$\n",
    "\\min_{X,Y} \\sum_k P^k \\sum_i \\sum_r \\tau_{irj}\\cdot y^k_{ir}\n",
    "$$\n",
    "\n",
    "\n",
    "Then all we need to do is update the constraints. I've included the line to make it easier to see what's new as our list grows. It has no mathematical significance. \n",
    "$$\n",
    "\\begin{aligned}\n",
    "\n",
    "\n",
    "\\text{s.t.}  & \\sum_{i}\\sum_{r} & y^k_{ir}&=d^k & & \\hspace{.2cm} \\text{(total supplies sent must meet demand)}\\\\\n",
    "\n",
    "& \\sum_{r}  & y^k_{ir}       &\\leq x_i & \\forall i \\in I& \\hspace{.2cm}\\text{(you can't send more than a warehouse has)}\\\\\n",
    "\n",
    " &\\text{} & y^k_{ir} &\\geq 0 &\\forall r\\in R, i \\in I& \\hspace{.2cm} \\text{(you can't send negative supplies)}\\\\\n",
    "\n",
    "& \\sum_k & P^k &=1 && \\hspace{.2cm} \\text{(All probabilities must sum to 1)}\\\\\n",
    "\n",
    "\n",
    "  & \\sum_{i} & x_i&=\\chi & & \\hspace{.2cm} \\text{(we allocate all supplies and no more)}\\\\\n",
    "\n",
    " && x_{i} &\\geq 0 &\\forall i \\in I& \\hspace{.2cm} \\text{(you can't allocate negative supplies)}\\\\\n",
    "\n",
    "\n",
    "\\end{aligned}\n",
    "$$"
   ]
  },
  {
   "cell_type": "markdown",
   "metadata": {},
   "source": [
    "We've added a few more sums here, but remember, in math, a sum is just a for loop. $\\sum_r$ is the equivalent to `for r in R:`. So how would we implement it in the format we've been using so far? This is going to be left as an open-ended exercise to the reader! If you get stuck, you can reference the production solver we'll be exploring below, which includes the mode of travel but is set up in a different approach than we've been using so far!"
   ]
  },
  {
   "cell_type": "markdown",
   "metadata": {},
   "source": [
    "#### Open-Ended Implementation"
   ]
  },
  {
   "cell_type": "code",
   "execution_count": null,
   "metadata": {},
   "outputs": [],
   "source": [
    "# Write your code here"
   ]
  },
  {
   "cell_type": "markdown",
   "metadata": {},
   "source": [
    "### 2.8 Interpreting the Solution "
   ]
  },
  {
   "cell_type": "markdown",
   "metadata": {},
   "source": [
    "So let's look at how much slower our real life allocations are in comparison to the optimal."
   ]
  },
  {
   "cell_type": "markdown",
   "metadata": {},
   "source": [
    "### Enhancing System Performance with the Balance Metric\n",
    "\n",
    "In humanitarian logistics, the efficiency of inventory allocation directly impacts the ability to respond swiftly and cost-effectively to disasters. The **Balance Metric** $(D)$ is a critical tool developed to evaluate the alignment of current inventory distribution with an optimal allocation. This metric is particularly valuable in contexts where multiple organizations independently manage inventory across various depots, without a centralized coordination mechanism.\n",
    "\n",
    "#### Definition and Calculation of the Balance Metric\n",
    "\n",
    "The balance metric $(D)$ is defined as the ratio between the actual objective value (either cost or time) of the current inventory allocation $V(X)$ and the optimal objective value $V(A')$ given the same overall capacity:\n",
    "\n",
    "$$ D = \\frac{V(A)}{V(A')}  $$\n",
    "\n",
    "Here:\n",
    "-  $V(A)$: Represents the current system-wide cost or time to meet demand based on the existing inventory allocation \\(X\\).\n",
    "-  $V(A')$: Represents the minimized cost or time if the inventory were optimally distributed across all depots.\n",
    "\n",
    "#### Interpretation of the Balance Metric\n",
    "\n",
    "1. **Optimal Inventory Allocation**:\n",
    "   The optimal value of $D$ is 1. This occurs when the current allocation perfectly aligns with the optimal allocation, meaning no further reallocation could reduce costs or response times.\n",
    "\n",
    "2. **Identifying Imbalances**:\n",
    "   When $D > 1$, the system is considered \"out-of-balance.\" A value of 1.2, for example, implies that the current allocation incurs 20% higher costs or longer response times compared to an optimal arrangement. This indicates a potential for improvement by reallocating resources more effectively.\n",
    "\n",
    "3. **Guiding System Improvements**:\n",
    "   The balance metric is not only an indicator of inefficiency but also a guide for decision-making. By identifying locations or items with the highest imbalance, decision-makers can prioritize inventory reallocations that would yield the most significant improvements in terms of cost savings or faster response times.\n",
    "\n",
    "#### Practical Applications in Humanitarian Logistics\n",
    "\n",
    "The balance metric offers several practical applications for optimizing humanitarian response efforts:\n",
    "\n",
    "- **Strategic Reallocation of Resources**:\n",
    "  Organizations can use the balance metric to identify under-stocked or over-stocked depots and adjust inventory levels accordingly. This strategic reallocation can significantly enhance response times or reduce costs, especially in multi-organizational contexts where coordination is limited.\n",
    "\n",
    "- **Sensitivity to Network Changes**:\n",
    "  The balance metric is responsive to changes in the logistics network. For example, if a new depot is added in a high-risk area and remains under-stocked, the balance metric will reflect this imbalance, prompting an assessment of whether inventory should be redistributed to better leverage the new depot.\n",
    "\n",
    "- **Decision-Making in Real-Time Operations**:\n",
    "  By continuously monitoring the balance metric as part of a real-time dashboard, operational managers can be alerted to changes that may impact overall system performance. This enables them to make data-driven decisions quickly, improving the overall resilience and responsiveness of the humanitarian supply chain.\n",
    "\n",
    "#### Limitations and Considerations\n",
    "\n",
    "While the balance metric provides valuable insights into inventory allocation efficiency, it is important to consider its limitations:\n",
    "\n",
    "- **Impact of Extreme Events**:\n",
    "  The balance metric can be influenced by extreme scenarios, such as very large-scale disasters that significantly impact the calculated demand. As a result, it should be interpreted alongside other metrics, such as the fraction of demand served ($g$) or the weighted fraction of disasters completely served ($d$), to provide a more comprehensive picture of system performance.\n",
    "\n",
    "- **Dependence on Data Quality and Model Assumptions**:\n",
    "  The accuracy of the balance metric depends on the quality of input data and the assumptions made in the model. Ensuring robust and accurate data collection processes and regularly updating model parameters to reflect real-world conditions are essential for maintaining the reliability of the metric.\n",
    "\n",
    "#### Conclusion\n",
    "\n",
    "The balance metric $D$ offers a powerful tool for evaluating and improving the efficiency of inventory allocation in humanitarian logistics. By identifying imbalances and guiding strategic reallocation decisions, this metric can help organizations optimize their response efforts, ensuring that resources are used most effectively to meet the needs of affected populations during disasters."
   ]
  },
  {
   "cell_type": "markdown",
   "metadata": {},
   "source": [
    "<a id='End'></a>"
   ]
  }
 ],
 "metadata": {
  "kernelspec": {
   "display_name": "gurobi_ml",
   "language": "python",
   "name": "python3"
  },
  "language_info": {
   "codemirror_mode": {
    "name": "ipython",
    "version": 3
   },
   "file_extension": ".py",
   "mimetype": "text/x-python",
   "name": "python",
   "nbconvert_exporter": "python",
   "pygments_lexer": "ipython3",
   "version": "3.11.6"
  }
 },
 "nbformat": 4,
 "nbformat_minor": 4
}
