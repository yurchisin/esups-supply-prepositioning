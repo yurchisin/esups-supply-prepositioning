{
 "cells": [
  {
   "cell_type": "markdown",
   "metadata": {},
   "source": [
    "# The Setup"
   ]
  },
  {
   "cell_type": "markdown",
   "metadata": {},
   "source": [
    "Our first step in the journey is reading and cleaning the data. We won't focus too much on this step because the really interesting stuff happens once we have the data loaded. However, we will showcase how the data needs to be formatted for Gurobi. If this is your first pass of the case study, feel free to skip over this section and return to it later when you want a more in-depth overview of formatting the data.\n",
    "\n",
    "Before we begin, I wanted to make a quick note about a line of code you'll see repeated throughout the notebook: %%script false --no-raise-error\n",
    "\n",
    "\n",
    "- **NOTE:** This is just cell magic (if you're unfamiliar, think of it as using the cmd line) telling the notebook not to run this cell. We'll use it in various places to demonstrate ideas or code snippets that are not meant to produce an output"
   ]
  },
  {
   "cell_type": "markdown",
   "metadata": {},
   "source": [
    "## The Environment"
   ]
  },
  {
   "cell_type": "markdown",
   "metadata": {},
   "source": [
    "The fun always starts with importing packages. "
   ]
  },
  {
   "cell_type": "code",
   "execution_count": 1,
   "metadata": {},
   "outputs": [],
   "source": [
    "import pandas as pd\n",
    "import numpy as np\n",
    "import plotly.express as px\n",
    "\n",
    "import gurobipy as gp\n",
    "from gurobipy import GRB"
   ]
  },
  {
   "cell_type": "markdown",
   "metadata": {},
   "source": [
    "The next and final step in this section is to define what data we'll be using to implement the solver, and in this case, we'll be using real-world data from Madagascar. Madagascar is the fourth largest island in the world and is located off the southeastern coast of Africa. Known for its unique biodiversity, approximately 90% of its wildlife is found nowhere else on Earth. The island's diverse ecosystems range from rainforests to deserts, making it a hotspot for biological research and conservation efforts.\n",
    "\n",
    "However, Madagascar is also prone to natural disasters, including cyclones, floods, and droughts, all of which have a significant impact on its population and infrastructure. These disasters pose challenges for disaster response and resource allocation, making it an ideal case study for optimization and data-driven decision-making."
   ]
  },
  {
   "cell_type": "markdown",
   "metadata": {},
   "source": [
    "## Reading and Cleaning \n",
    "Now we'll load the data for a set of natural disasters and warehouses that will store supplies. One assumption made in this case study is that we do not have to worry about warehouse capacity."
   ]
  },
  {
   "cell_type": "markdown",
   "metadata": {},
   "source": [
    "<div class=\"alert alert-warning\">\n",
    "    <strong>Note!</strong>\n",
    "    <p>While the data shows latitude and longitude of warehouse locations, these coordinates have been altered slightly.</p>\n",
    "</div>"
   ]
  },
  {
   "cell_type": "code",
   "execution_count": 2,
   "metadata": {},
   "outputs": [
    {
     "data": {
      "text/html": [
       "<div>\n",
       "<style scoped>\n",
       "    .dataframe tbody tr th:only-of-type {\n",
       "        vertical-align: middle;\n",
       "    }\n",
       "\n",
       "    .dataframe tbody tr th {\n",
       "        vertical-align: top;\n",
       "    }\n",
       "\n",
       "    .dataframe thead th {\n",
       "        text-align: right;\n",
       "    }\n",
       "</style>\n",
       "<table border=\"1\" class=\"dataframe\">\n",
       "  <thead>\n",
       "    <tr style=\"text-align: right;\">\n",
       "      <th></th>\n",
       "      <th>Type</th>\n",
       "      <th>Lat</th>\n",
       "      <th>Long</th>\n",
       "      <th>People Impacted</th>\n",
       "    </tr>\n",
       "  </thead>\n",
       "  <tbody>\n",
       "    <tr>\n",
       "      <th>0</th>\n",
       "      <td>Storm</td>\n",
       "      <td>-12.2667</td>\n",
       "      <td>49.2833</td>\n",
       "      <td>118000</td>\n",
       "    </tr>\n",
       "    <tr>\n",
       "      <th>1</th>\n",
       "      <td>Storm</td>\n",
       "      <td>-14.2667</td>\n",
       "      <td>50.1667</td>\n",
       "      <td>100215</td>\n",
       "    </tr>\n",
       "    <tr>\n",
       "      <th>2</th>\n",
       "      <td>Epidemic</td>\n",
       "      <td>-14.8762</td>\n",
       "      <td>47.9835</td>\n",
       "      <td>21976</td>\n",
       "    </tr>\n",
       "    <tr>\n",
       "      <th>3</th>\n",
       "      <td>Epidemic</td>\n",
       "      <td>-15.7167</td>\n",
       "      <td>46.3167</td>\n",
       "      <td>15172</td>\n",
       "    </tr>\n",
       "    <tr>\n",
       "      <th>4</th>\n",
       "      <td>Flood</td>\n",
       "      <td>-16.9504</td>\n",
       "      <td>46.8281</td>\n",
       "      <td>20000</td>\n",
       "    </tr>\n",
       "  </tbody>\n",
       "</table>\n",
       "</div>"
      ],
      "text/plain": [
       "       Type      Lat     Long  People Impacted\n",
       "0     Storm -12.2667  49.2833           118000\n",
       "1     Storm -14.2667  50.1667           100215\n",
       "2  Epidemic -14.8762  47.9835            21976\n",
       "3  Epidemic -15.7167  46.3167            15172\n",
       "4     Flood -16.9504  46.8281            20000"
      ]
     },
     "execution_count": 2,
     "metadata": {},
     "output_type": "execute_result"
    }
   ],
   "source": [
    "disasters = pd.read_csv(\"data/disasters.csv\")\n",
    "disasters.head()"
   ]
  },
  {
   "cell_type": "code",
   "execution_count": 3,
   "metadata": {},
   "outputs": [
    {
     "data": {
      "text/html": [
       "<div>\n",
       "<style scoped>\n",
       "    .dataframe tbody tr th:only-of-type {\n",
       "        vertical-align: middle;\n",
       "    }\n",
       "\n",
       "    .dataframe tbody tr th {\n",
       "        vertical-align: top;\n",
       "    }\n",
       "\n",
       "    .dataframe thead th {\n",
       "        text-align: right;\n",
       "    }\n",
       "</style>\n",
       "<table border=\"1\" class=\"dataframe\">\n",
       "  <thead>\n",
       "    <tr style=\"text-align: right;\">\n",
       "      <th></th>\n",
       "      <th>Type</th>\n",
       "      <th>Lat</th>\n",
       "      <th>Long</th>\n",
       "      <th>Buckets</th>\n",
       "    </tr>\n",
       "  </thead>\n",
       "  <tbody>\n",
       "    <tr>\n",
       "      <th>0</th>\n",
       "      <td>Warehouses</td>\n",
       "      <td>-17.8237</td>\n",
       "      <td>48.4263</td>\n",
       "      <td>26</td>\n",
       "    </tr>\n",
       "    <tr>\n",
       "      <th>1</th>\n",
       "      <td>Warehouses</td>\n",
       "      <td>-20.5167</td>\n",
       "      <td>47.2500</td>\n",
       "      <td>41</td>\n",
       "    </tr>\n",
       "    <tr>\n",
       "      <th>2</th>\n",
       "      <td>Warehouses</td>\n",
       "      <td>-18.9085</td>\n",
       "      <td>47.5375</td>\n",
       "      <td>9046</td>\n",
       "    </tr>\n",
       "    <tr>\n",
       "      <th>3</th>\n",
       "      <td>Warehouses</td>\n",
       "      <td>-17.3843</td>\n",
       "      <td>49.4098</td>\n",
       "      <td>2762</td>\n",
       "    </tr>\n",
       "    <tr>\n",
       "      <th>4</th>\n",
       "      <td>Warehouses</td>\n",
       "      <td>-16.9167</td>\n",
       "      <td>49.9000</td>\n",
       "      <td>1682</td>\n",
       "    </tr>\n",
       "  </tbody>\n",
       "</table>\n",
       "</div>"
      ],
      "text/plain": [
       "         Type      Lat     Long  Buckets\n",
       "0  Warehouses -17.8237  48.4263       26\n",
       "1  Warehouses -20.5167  47.2500       41\n",
       "2  Warehouses -18.9085  47.5375     9046\n",
       "3  Warehouses -17.3843  49.4098     2762\n",
       "4  Warehouses -16.9167  49.9000     1682"
      ]
     },
     "execution_count": 3,
     "metadata": {},
     "output_type": "execute_result"
    }
   ],
   "source": [
    "warehouses = pd.read_csv(\"data/warehouses.csv\")\n",
    "warehouses.head()"
   ]
  },
  {
   "cell_type": "markdown",
   "metadata": {},
   "source": [
    "## Data Exploration and Visualization"
   ]
  },
  {
   "cell_type": "markdown",
   "metadata": {},
   "source": [
    "It's always useful to see the general structure of data and the broader context of the problem. Now that we've cleaned and loaded it, let's take some time to understand it. The goal here should be to get comfortable with the problem as a whole and give you an intuitive understanding of what we are solving. So, the emphasis isn't on the code. For this reason, most of the following cells have been written as functions to collapse more easily across different platforms. Your goal shouldn't be to understand the libraries used to map, but instead on how Madagascar looks at a high level."
   ]
  },
  {
   "cell_type": "markdown",
   "metadata": {},
   "source": [
    "### Where is Everything?\n",
    "One of the first things we'll look at is where the supplies are relative to disasters right now. "
   ]
  },
  {
   "cell_type": "markdown",
   "metadata": {},
   "source": [
    "![](images/book2_map1.png)"
   ]
  },
  {
   "cell_type": "markdown",
   "metadata": {},
   "source": [
    "If you are working with an interactive version of this notebook, here is the code to create the above Plotly map. "
   ]
  },
  {
   "cell_type": "code",
   "execution_count": null,
   "metadata": {},
   "outputs": [],
   "source": [
    "# don't forget to remove the ''' to run this code!\n",
    "'''\n",
    "dfw = warehouses[['Type', 'Lat', 'Long']]\n",
    "dfd = disasters[['Type', 'Lat', 'Long']]\n",
    "\n",
    "df_combined = pd.concat([dfw[['Lat', 'Long', 'Type']], dfd[['Lat', 'Long', 'Type']]], ignore_index=True)\n",
    "\n",
    "fig = px.scatter_mapbox(df_combined, lat=\"Lat\", lon=\"Long\", \n",
    "                        color=\"Type\",\n",
    "                        color_discrete_sequence=px.colors.qualitative.Safe,\n",
    "                        zoom=4.5)\n",
    "\n",
    "# Use a minimalist map style to reduce clutter\n",
    "fig.update_layout(mapbox_style=\"open-street-map\")\n",
    "fig.update_traces(marker_size=10)\n",
    "\n",
    "# Optionally center the map around the mean latitude and longitude of your points\n",
    "mean_lat = df_combined['Lat'].mean()\n",
    "mean_long = df_combined['Long'].mean()\n",
    "fig.update_layout(mapbox_center={\"lat\": mean_lat, \"lon\": mean_long})\n",
    "fig.update_layout(margin={\"r\": 0, \"t\": 0, \"l\": 0, \"b\": 0})\n",
    "\n",
    "fig.show()\n",
    "'''"
   ]
  },
  {
   "cell_type": "markdown",
   "metadata": {},
   "source": [
    "We can see that the warehouses are aligned closely with the most prominent disaster sights*, so assuming they are built to a level that can survive and protect against those disasters, Madagascar should be in a strong position in terms of coverage. However, there's more than meets the eye. Let's dive a little deeper!\n",
    "\n",
    "Hopefully, now that you've gotten a sense of the country and the layout, we'll turn off some of the more detailed parts (such as roads and urbanization) so it's simpler to see what’s going on.\n",
    "\n",
    "- **NOTE:** locations of warehouses have been modified for this case study for safety."
   ]
  },
  {
   "cell_type": "markdown",
   "metadata": {},
   "source": [
    "### What Supplies are Available?"
   ]
  },
  {
   "cell_type": "markdown",
   "metadata": {},
   "source": [
    "An important question to ask at this point is: what do we have inside the warehouses? It's great that there seems to be good coverage that ensures a warehouse is nearby for any disaster, but if one of them is full of kitchen sets and there's a flood, they might not be as immediately useful as buckets or tarpaulins. So, let's look at the overall breakdown of supplies by warehouse/location:"
   ]
  },
  {
   "cell_type": "markdown",
   "metadata": {},
   "source": [
    "![](images/barchart.png)"
   ]
  },
  {
   "cell_type": "markdown",
   "metadata": {},
   "source": [
    "As we can see from above, the supplies skew heavily towards buckets, water containers, and mosquito nets, which makes sense for an island nation. But while it's great that we have a lot of buckets, it won't do us too much good if none of them are at the coast, for instance.\n",
    "\n",
    "- **NOTE:** From here out in the case study, we're going to focus on just buckets as they're the most prevalent item and, for the purposes of this case, it's time consuming and repetitive to analyze all 15 item types of supplies available. \n",
    "\n",
    "This case study assumes that it is sufficient to analyze each item independently. "
   ]
  },
  {
   "cell_type": "markdown",
   "metadata": {},
   "source": [
    "### Where are the Supplies?\n",
    "\n",
    "Let's take a look at the following map to get a better picture of where everything is."
   ]
  },
  {
   "cell_type": "code",
   "execution_count": 5,
   "metadata": {},
   "outputs": [
    {
     "data": {
      "text/html": [
       "<div>\n",
       "<style scoped>\n",
       "    .dataframe tbody tr th:only-of-type {\n",
       "        vertical-align: middle;\n",
       "    }\n",
       "\n",
       "    .dataframe tbody tr th {\n",
       "        vertical-align: top;\n",
       "    }\n",
       "\n",
       "    .dataframe thead th {\n",
       "        text-align: right;\n",
       "    }\n",
       "</style>\n",
       "<table border=\"1\" class=\"dataframe\">\n",
       "  <thead>\n",
       "    <tr style=\"text-align: right;\">\n",
       "      <th></th>\n",
       "      <th>Lat</th>\n",
       "      <th>Long</th>\n",
       "      <th>Buckets</th>\n",
       "    </tr>\n",
       "  </thead>\n",
       "  <tbody>\n",
       "    <tr>\n",
       "      <th>0</th>\n",
       "      <td>-13.680400</td>\n",
       "      <td>48.455500</td>\n",
       "      <td>375</td>\n",
       "    </tr>\n",
       "    <tr>\n",
       "      <th>1</th>\n",
       "      <td>-17.823700</td>\n",
       "      <td>48.426300</td>\n",
       "      <td>26</td>\n",
       "    </tr>\n",
       "    <tr>\n",
       "      <th>2</th>\n",
       "      <td>-20.516700</td>\n",
       "      <td>47.250000</td>\n",
       "      <td>41</td>\n",
       "    </tr>\n",
       "    <tr>\n",
       "      <th>3</th>\n",
       "      <td>-25.176133</td>\n",
       "      <td>46.089378</td>\n",
       "      <td>2322</td>\n",
       "    </tr>\n",
       "    <tr>\n",
       "      <th>4</th>\n",
       "      <td>-18.908500</td>\n",
       "      <td>47.537500</td>\n",
       "      <td>9046</td>\n",
       "    </tr>\n",
       "  </tbody>\n",
       "</table>\n",
       "</div>"
      ],
      "text/plain": [
       "         Lat       Long  Buckets\n",
       "0 -13.680400  48.455500      375\n",
       "1 -17.823700  48.426300       26\n",
       "2 -20.516700  47.250000       41\n",
       "3 -25.176133  46.089378     2322\n",
       "4 -18.908500  47.537500     9046"
      ]
     },
     "execution_count": 5,
     "metadata": {},
     "output_type": "execute_result"
    }
   ],
   "source": [
    "supplies = pd.read_csv(\"data/supplies.csv\")\n",
    "supplies.head()"
   ]
  },
  {
   "cell_type": "markdown",
   "metadata": {},
   "source": [
    "![](images/book2_map2.png)"
   ]
  },
  {
   "cell_type": "markdown",
   "metadata": {},
   "source": [
    "Here's the code for this interactive map. "
   ]
  },
  {
   "cell_type": "code",
   "execution_count": 6,
   "metadata": {},
   "outputs": [],
   "source": [
    "# don't forget to remove the ''' to run this code!\n",
    "#\n",
    "#fig = px.scatter_mapbox(supplies, lat=\"Lat\", lon=\"Long\", size=\"Buckets\",\n",
    "#                       color_discrete_sequence=px.colors.qualitative.Safe,\n",
    "#                       zoom=4.5,  # Adjust zoom level as needed\n",
    "#                       )\n",
    "## Optionally center the map around the mean latitude and longitude of your points\n",
    "## Use a minimalist map style to reduce clutter\n",
    "#fig.update_layout(mapbox_style=\"carto-positron\")\n",
    "#\n",
    "#mean_lat = supplies['Lat'].mean()\n",
    "#mean_long = supplies['Long'].mean()\n",
    "#fig.update_layout(mapbox_center={\"lat\": mean_lat, \"lon\": mean_long})\n",
    "#fig.update_layout(margin={\"r\":0,\"t\":0,\"l\":0,\"b\":0})\n",
    "#\n",
    "#fig.show()"
   ]
  },
  {
   "cell_type": "markdown",
   "metadata": {},
   "source": [
    "We can see that the supplies are largely located on the eastern coast line of the country. "
   ]
  },
  {
   "cell_type": "markdown",
   "metadata": {},
   "source": [
    "### Not All Disasters Are Built the Same"
   ]
  },
  {
   "cell_type": "markdown",
   "metadata": {},
   "source": [
    "Let's see which events Madagascar is more likely to encounter. "
   ]
  },
  {
   "cell_type": "markdown",
   "metadata": {},
   "source": [
    "![](images/book2_map3.png)"
   ]
  },
  {
   "cell_type": "markdown",
   "metadata": {},
   "source": [
    "And the code, of course."
   ]
  },
  {
   "cell_type": "code",
   "execution_count": 7,
   "metadata": {},
   "outputs": [],
   "source": [
    "# don't forget to remove the ''' to run this code!\n",
    "#\n",
    "#fig = px.scatter_mapbox(disasters, lat=\"Lat\", lon=\"Long\", color=\"Type\", \n",
    "#                        size=\"People Impacted\",\n",
    "#                        zoom=4.5,  # Adjust zoom level as needed\n",
    "#                        color_discrete_sequence=px.colors.qualitative.Safe,\n",
    "#                        )\n",
    "#\n",
    "## Optionally center the map around the mean latitude and longitude of your points\n",
    "## Use a minimalist map style to reduce clutter\n",
    "#fig.update_layout(mapbox_style=\"carto-positron\")\n",
    "#\n",
    "#mean_lat = disasters['Lat'].mean()\n",
    "#mean_long = disasters['Long'].mean()\n",
    "#fig.update_layout(mapbox_center={\"lat\": mean_lat, \"lon\": mean_long})\n",
    "#fig.update_layout(margin={\"r\":0,\"t\":0,\"l\":0,\"b\":0})\n",
    "#\n",
    "#fig.show()"
   ]
  },
  {
   "cell_type": "markdown",
   "metadata": {},
   "source": [
    "### How Disasters and Supplies Compare in Scale"
   ]
  },
  {
   "cell_type": "markdown",
   "metadata": {},
   "source": [
    "You can see small blue circles within the red circles, representing supply quantities. The size of each red circle indicates the estimated number of people needing supplies in a disaster-affected area. Meanwhile, the blue circles show the total number of items available, adjusted by how many people each item can serve. For example, one large bucket is estimated to meet the needs of 2.5 people, so the blue circles display the quantity of supplies as $2.5 \\cdot Supplies$\n"
   ]
  },
  {
   "cell_type": "markdown",
   "metadata": {},
   "source": [
    "![](images/book2_map4.png)"
   ]
  },
  {
   "cell_type": "code",
   "execution_count": 8,
   "metadata": {},
   "outputs": [],
   "source": [
    "# don't forget to remove the ''' to run this code!\n",
    "#\n",
    "#dfs = supplies.copy()\n",
    "#dfs['Type'] = 'Supplies'\n",
    "#dfs['Scale'] = dfs['Buckets']*2.5\n",
    "#\n",
    "#dfd = disasters.copy()\n",
    "#dfd['Scale'] = dfd['People Impacted']\n",
    "#\n",
    "#df_combined = pd.concat([dfs[['Type','Lat', 'Long', 'Scale']],\n",
    "#                         dfd[['Type','Lat', 'Long', 'Scale']]],\n",
    "#                         ignore_index=True)\n",
    "#\n",
    "#fig = px.scatter_mapbox(df_combined, lat=\"Lat\", lon=\"Long\", \n",
    "#                      size=\"Scale\", color='Type',\n",
    "#                      size_max=40,  # Maximum size of the marker\n",
    "#                      zoom=4.5,  # Adjust zoom level as needed\n",
    "#                      color_discrete_sequence=px.colors.qualitative.Safe,\n",
    "#                      )\n",
    "#\n",
    "## Optionally center the map around the mean latitude and longitude of your points\n",
    "## Use a minimalist map style to reduce clutter\n",
    "#fig.update_layout(mapbox_style=\"carto-positron\")\n",
    "#\n",
    "#mean_lat = df_combined['Lat'].mean()\n",
    "#mean_long = df_combined['Long'].mean()\n",
    "#fig.update_layout(mapbox_center={\"lat\": mean_lat, \"lon\": mean_long})\n",
    "#fig.update_layout(margin={\"r\":0,\"t\":0,\"l\":0,\"b\":0})\n",
    "#\n",
    "#fig.show()\n"
   ]
  },
  {
   "cell_type": "markdown",
   "metadata": {},
   "source": [
    "### How Does ESUPS Communicate this?\n"
   ]
  },
  {
   "cell_type": "markdown",
   "metadata": {},
   "source": [
    "Effective communication is vital in disaster response, not only for coordinating logistics but also for ensuring that the right information reaches the right people at the right time. In this section, we will explore the ESUPS website, which serves as a central hub for sharing critical data and insights with a diverse audience, including NGOs, government agencies, and the public.\n",
    "\n",
    "The ESUPS STOCKHOLM platform is designed to translate complex optimization models and logistical data into intuitive, actionable information. Through a combination of interactive charts, maps, and data visualizations, the platform provides users (comprised of NGOs and humanitarian/relief organizations) with a clear understanding of where pre-positioned supplies are located, how they can be accessed, and the impact of various logistical decisions.\n",
    "\n",
    "We will examine how ESUPS effectively communicates information about stock and analysis of results through STOCKHOLM, highlighting key features such as:\n",
    "•\tReal-time Data Visualizations: How ESUPS uses dynamic maps and graphs to show the distribution of resources and potential gaps in coverage. These are updated daily with the newest information available\n",
    "•\tUser-Friendly Interface: The strategies employed to make the website accessible and informative for both technical and non-technical users.\n",
    "•\tImpact Metrics: How ESUPS showcases the tangible benefits of its optimization strategies, including improved response times and resource utilization. We'll take a special look at these later in the case to help us understand what our optimization techniques have achieved.\n",
    "\n",
    "And finally, in one of the most relevant features of this case study, ESUPS has given us permission to share some of the difficulties they have experienced in their attempts to convey the scale of this problem and their findings along with what they hope to change and improve for their users going forward.\n",
    "\n",
    "Let's take a look!"
   ]
  },
  {
   "cell_type": "markdown",
   "metadata": {},
   "source": [
    "ESUPS's platform Stockholm, which is their platform for hosting this model (you can apply for access by visiting the homepage linked above), has two main pages, the first is the context page, and explains the context of the problem that we've been discussing in the past few sections, along with additional details about their mission and collaborating organizations. We'll look at this one first!"
   ]
  },
  {
   "cell_type": "markdown",
   "metadata": {},
   "source": [
    "**The Real-time Data Visualization** : Progessive Improvement\n",
    "\n",
    "We're going to take a slight detour here to look at how all this information is communicated in real life! You can skip this section without concern for missing important information. \n",
    "\n",
    "As we've seen, getting an intuitive understanding of disasters and humanitarian supplies can be tricky when working with a new country. In fact, it's one of the main challenges ESUPS has faced in driving adoption and explaining why their work is so important. \n",
    "\n",
    "Data Visualization isn't an easy task, but let's take a look at how ESUPS started and how they're continuing to improve!"
   ]
  },
  {
   "cell_type": "markdown",
   "metadata": {},
   "source": [
    "![](images/Old_Stockholm.png)"
   ]
  },
  {
   "cell_type": "markdown",
   "metadata": {},
   "source": [
    "The earlier version of the ESUPS dashboard, while not perfect, played a critical role in enabling the organization to quickly deliver a functional product that demonstrated tangible results to other non-profits. This initial version provided the essential tools needed to map stockpiles and showcase the value of the platform in real-world scenarios. By prioritizing functionality and speed, ESUPS was able to meet the immediate needs of its partners, proving the concept and gaining crucial buy-in from stakeholders.\n",
    "\n",
    "The design, though basic, allowed for rapid deployment and iteration, proving that in the early stages of development, it's more important to have a working solution than to strive for perfection. The dashboard's ability to deliver key insights swiftly and effectively earned it significant merit, as it laid the groundwork for future improvements and set the stage for more advanced iterations. This approach underscores a vital lesson in development: sometimes, a good solution delivered quickly can be more valuable than a perfect one delivered too late.\n",
    "\n",
    "The initial success provided a strong foundation upon which ESUPS could build. The insights gained from this deployment informed the development of a new version, which addresses the limitations of the first while enhancing user experience and data communication. The new dashboard takes these lessons to heart, incorporating more advanced features and a more intuitive design, ensuring that ESUPS continues to meet the needs of its partners more effectively. Now, let’s explore how this new version improves upon the original and further advances ESUPS's mission."
   ]
  },
  {
   "cell_type": "markdown",
   "metadata": {},
   "source": [
    "![](images/Disaster_Dashboard.png)"
   ]
  },
  {
   "cell_type": "markdown",
   "metadata": {},
   "source": [
    "The newer version of the dashboard incorporates several effective design elements that help uninitiated users quickly grasp the context and understand the information presented. Building upon the foundation of the initial version, this iteration features a more logical layout, with distinct sections clearly labeled to make it easier for users to identify and comprehend different data categories at a glance. The use of diverse visualizations—such as a map, pie chart, bar chart, and line graph—enables multiple data points to be visualized simultaneously, offering a comprehensive overview of the situation.\n",
    "\n",
    "A key improvement in this version is the effective use of white space. By strategically separating visual elements, the dashboard reduces clutter, ensuring that the information is not overwhelming and making it easier for users to digest. The clear representation of data ensures that each visualization has a specific purpose and is easy to interpret. For example, the Storage Facilities Map now clearly shows the geographical locations of storage facilities with available stock, providing important context. The pie chart uses distinct colors to differentiate between types of disasters, simplifying the interpretation of proportions, while the bar chart allows for a quick comparison of the number of people affected and the number of disasters by region. The line graph displays trends over time, with a dotted trend line to indicate the general direction of these trends.\n",
    "\n",
    "The dashboard’s minimalist design elements further contribute to its effectiveness, an improvement from the earlier version. By avoiding unnecessary elements, the design minimizes distractions and enhances readability, ensuring that the focus remains on the data itself. Purposeful use of color now guides the viewer’s attention to key information more effectively. Interactive features, such as buttons labeled “SEE DISASTERS” and “SEE DETAILS,” suggest that users can engage more deeply with specific data points, which enhances both functionality and user engagement.\n",
    "\n",
    "Moreover, the consistent color scheme and font style create a unified visual identity, lending a professional appearance and helping users navigate the information more intuitively. Altogether, these elements combine to present a cohesive design that significantly improves user experience and data comprehension compared to the earlier version.\n",
    "\n",
    "However, as with any evolving tool, there is always room for further refinement. While this version addresses many of the initial challenges, the ongoing development process continues to identify areas where improvements can be made. By revisiting earlier designs, we can better understand how these refinements come about and how they contribute to a more effective and user-friendly dashboard. Let’s now take a look at one of the earlier pages to explore these opportunities for further enhancement."
   ]
  },
  {
   "cell_type": "markdown",
   "metadata": {},
   "source": [
    "![](images/Stock_Dashboard.png)"
   ]
  },
  {
   "cell_type": "markdown",
   "metadata": {},
   "source": [
    "As the dashboard continues to evolve, ESUPS is taking the opportunity to further enhance its intuitiveness and user-friendliness. Building on the successes and lessons from earlier iterations, the latest redesign aims to address some of the shortcomings that were identified in the previous versions. By incorporating clear labels, units, and detailed explanations, the new design strives to provide users with the necessary context to interpret data effectively. For instance, sections like “NATIONAL AND COLLECTIVE ASSESSMENT OF STOCK QUANTITIES” and “TIME GAINED BY RE-DISPATCHING ITEMS BETWEEN LOCATIONS” will benefit from added clarity, helping users to understand the information presented more intuitively.\n",
    "\n",
    "One of the key areas for improvement in this redesign is the refinement of the color scheme. The use of distinct and contrasting colors will make it easier for users to differentiate between categories in the bar charts. Additionally, clearly indicating what each color signifies, along with providing complete chart titles and fully displayed x-axis labels, will ensure that users can grasp the full context of the data being assessed. These visual enhancements are crucial for making the dashboard more accessible and easier to interpret, especially for users who may be less familiar with the underlying data.\n",
    "\n",
    "Another critical improvement is the addition of context and explanations for key metrics. For example, providing details on figures like “39% - 14,615” under “National Stock Level Support” will remove ambiguity and highlight the relevance and importance of these numbers. Establishing clear connections between different data types—such as percentages, quantities, and time in minutes—will create a cohesive narrative that guides users through the data, making it easier to follow and more meaningful.\n",
    "\n",
    "To further enhance the user experience, the redesigned dashboard will also focus on improving presentation aspects. Larger text sizes and decluttered visuals will enhance readability, allowing users to quickly grasp the information at a glance. Incorporating interactive elements, such as tooltips, will enable users to explore the data in greater depth and gain additional insights. Simplifying terminology and offering clear explanations for complex concepts, like “Time Gained by Re-Dispatching Items Between Locations,” will further aid in user understanding and ensure that the dashboard is accessible to a wider audience.\n",
    "\n",
    "These iterative improvements are a testament to the dynamic nature of data visualization and communication within the industry. By continuously refining and enhancing the dashboard, ESUPS is committed to delivering a tool that not only meets but exceeds user needs. This ongoing process of iteration and enhancement underscores the organization’s dedication to creating a valuable resource for decision-making, ultimately helping ESUPS better serve its partners and fulfill its mission"
   ]
  }
 ],
 "metadata": {
  "kernelspec": {
   "display_name": "gurobi_ml",
   "language": "python",
   "name": "python3"
  },
  "language_info": {
   "codemirror_mode": {
    "name": "ipython",
    "version": 3
   },
   "file_extension": ".py",
   "mimetype": "text/x-python",
   "name": "python",
   "nbconvert_exporter": "python",
   "pygments_lexer": "ipython3",
   "version": "3.11.6"
  }
 },
 "nbformat": 4,
 "nbformat_minor": 4
}
