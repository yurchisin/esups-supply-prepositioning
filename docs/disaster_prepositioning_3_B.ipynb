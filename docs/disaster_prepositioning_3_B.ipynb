{
 "cells": [
  {
   "cell_type": "markdown",
   "id": "e1da5b27",
   "metadata": {},
   "source": [
    "# More On Expected Value\n",
    "\n",
    "If you haven't seen expected value before or if it's just a been a while and you'd like a refresher, try some of the practice problems below!\n",
    "When we solve expected value for discrete outcomes, we take the value/outcome/payoff of each possible event and discount it by the probability that it actually occurs. So it follows the form\n",
    "\n",
    "$$\n",
    "E[X]=p_1(x_1)+p_2(x_2)+ ... + p_n(x_n)\n",
    "$$\n",
    "To simplify this notation we typically write this as a series:\n",
    "\n",
    "$$\n",
    "E[X]=\\sum_{i=1}^{n} p_i \\cdot x_i\n",
    "$$\n",
    "\n",
    "Try some of the problems below to get a better feel for it!"
   ]
  },
  {
   "cell_type": "markdown",
   "id": "e1114bb3",
   "metadata": {},
   "source": [
    "## Starter Problems\n",
    "\n",
    "### Coin Flip\n",
    "Suppose we play a coin flipping game. Every time we flip the coin and it lands on heads, you get one dollar, and every time it lands on tails, you have to pay one dollar. How much are you expected to make or lose when playing this game?"
   ]
  },
  {
   "cell_type": "markdown",
   "id": "a6cd4c2a",
   "metadata": {},
   "source": [
    "### Solution"
   ]
  },
  {
   "cell_type": "markdown",
   "id": "2c4b2369",
   "metadata": {},
   "source": [
    "```{admonition} Check your answer here!\n",
    ":class: tip, dropdown\n",
    "$$\n",
    "\\begin{aligned}\n",
    "E[X] &= \\left(\\frac{1}{2} \\times 1\\right) + \\left(\\frac{1}{2} \\times (-1)\\right)\n",
    "\\\\\n",
    "E[X] &= \\frac{1}{2} - \\frac{1}{2} = 0\n",
    "\\end{aligned}\n",
    "$$\n",
    "**Answer**: The expected value is $\\$0$. This means, on average over the long term, you neither gain nor lose money from playing this game.\n",
    "```"
   ]
  },
  {
   "cell_type": "markdown",
   "id": "f97efb12",
   "metadata": {},
   "source": [
    "### Coin Flip Variant\n",
    "Now, let's change the game a little, say you now get \\$5 when the coin lands on heads and only have to pay \\$3 when it lands on tails. Would you play? How much are you expected to make or lose when playing this game?\n",
    "\n",
    "### Solution"
   ]
  },
  {
   "cell_type": "markdown",
   "id": "aa781bd4",
   "metadata": {},
   "source": [
    "```{admonition} Check your answer here!\n",
    ":class: tip, dropdown\n",
    "$$\n",
    "\\begin{aligned}\n",
    "E[X] &= \\left(\\frac{1}{2} \\times 5\\right) + \\left(\\frac{1}{2} \\times (-3)\\right)\n",
    "\\\\\n",
    "E[X] &= \\frac{5}{2} - \\frac{3}{2} = 1\n",
    "\\end{aligned}\n",
    "$$\n",
    "**Answer**: The expected value is $\\$1$. This means, on average, you will make $\\$1$ per flip.\n",
    "```"
   ]
  },
  {
   "cell_type": "markdown",
   "id": "23138101",
   "metadata": {},
   "source": [
    "### Simple Dice Game\n",
    "Suppose you roll a fair six-sided die. If it lands on 6, you win \\$10; otherwise, you lose \\$2. What is the expected value of this game? Should you play it?\n",
    "\n",
    "### Solution"
   ]
  },
  {
   "cell_type": "markdown",
   "id": "b367fc88",
   "metadata": {},
   "source": [
    "```{admonition} Check your answer here!\n",
    ":class: tip, dropdown\n",
    "$$\n",
    "\\begin{aligned}\n",
    "E[X] &= \\left(\\frac{1}{6} \\times 10\\right) + \\left(\\frac{5}{6} \\times (-2)\\right)\n",
    "\\\\\n",
    "E[X] &= \\left(\\frac{10}{6}\\right) + \\left(\\frac{-10}{6}\\right)\n",
    "\\\\\n",
    "E[X] &= \\frac{10 - 10}{6} = 0\n",
    "\\end{aligned}\n",
    "$$\n",
    "**Answer**: The expected value is $\\$0$. This means, on average, you neither gain nor lose money from playing this game.\n",
    "```"
   ]
  },
  {
   "cell_type": "markdown",
   "id": "6fe1e499",
   "metadata": {},
   "source": [
    "### Two-Coin Game\n",
    "You flip two fair coins. If both coins land on heads, you win \\$8. If one coin lands on heads and the other on tails, you win \\$4. If both coins land on tails, you lose \\$5. What is the expected value of playing this game?\n",
    "\n",
    "### Solution"
   ]
  },
  {
   "cell_type": "markdown",
   "id": "3070e2e4",
   "metadata": {},
   "source": [
    "```{admonition} Check your answer here!\n",
    ":class: tip, dropdown\n",
    "- Probability of two heads (HH): $\\frac{1}{4}$\n",
    "- Probability of one head and one tail (HT or TH): $\\frac{1}{2}$\n",
    "- Probability of two tails (TT): $\\frac{1}{4}$\n",
    "$$\n",
    "\\begin{aligned}\n",
    "E[X] &= \\left(\\frac{1}{4} \\times 8\\right) + \\left(\\frac{1}{2} \\times 4\\right) + \\left(\\frac{1}{4} \\times (-5)\\right)\n",
    "\\\\\n",
    "E[X] &= \\left(2\\right) + \\left(2\\right) + \\left(-1.25\\right)\n",
    "\\\\\n",
    "E[X] &= 2 + 2 - 1.25 = 2.75\n",
    "\\end{aligned}\n",
    "$$\n",
    "**Answer**: The expected value is \\$2.75. This means, on average, you gain \\$2.75 per game.\n",
    "```"
   ]
  },
  {
   "cell_type": "markdown",
   "id": "4cf5acda",
   "metadata": {},
   "source": [
    "### Intermediate Problems\n",
    "\n",
    "#### Custom Die Game\n",
    "Imagine a custom die with faces labeled 1, 2, 3, 4, 5, and 6. Each face has a different probability: P(1) = 0.1, P(2) = 0.2, P(3) = 0.15, P(4) = 0.25, P(5) = 0.2, and P(6) = 0.1. If the outcome of the die is 1, you win \\$2; for a 2, you win \\$4; for a 3, you win \\$6; for a 4, you lose \\$3; for a 5, you lose \\$7; and for a 6, you lose \\$5. What is the expected value of this game?\n",
    "\n",
    "##### Solution"
   ]
  },
  {
   "cell_type": "markdown",
   "id": "a030da67",
   "metadata": {},
   "source": [
    "```{admonition} Check your answer here!\n",
    ":class: tip, dropdown\n",
    "$$\n",
    "\\begin{aligned}\n",
    "E[X] &= (0.1 \\times 2) + (0.2 \\times 4) + (0.15 \\times 6) + (0.25 \\times -3) + (0.2 \\times -7) + (0.1 \\times -5) \\\\\n",
    "E[X] &= (0.2) + (0.8) + (0.9) + (-0.75) + (-1.4) + (-0.5) \\\\\n",
    "E[X] &= 1.9 - 2.65 = -0.75\n",
    "\\end{aligned}\n",
    "$$\n",
    "**Answer**:The expected value is $-\\$0.75$. On average, you lose $75$ cents per roll.\n",
    "```"
   ]
  },
  {
   "cell_type": "markdown",
   "id": "c4a1bbaa",
   "metadata": {},
   "source": [
    "#### Card Drawing Game\n",
    "You draw a card from a standard deck of 52 playing cards. If you draw an Ace, you win \\$15. If you draw a King, Queen, or Jack, you win \\$5. For any other card, you lose \\$3. What is the expected value of this game?\n",
    "\n",
    "##### Solution"
   ]
  },
  {
   "cell_type": "markdown",
   "id": "4ac4f8b6",
   "metadata": {},
   "source": [
    "```{admonition} Check your answer here!\n",
    ":class: tip, dropdown\n",
    "- Probability of drawing an Ace: $\\frac{4}{52} = \\frac{1}{13}$\n",
    "- Probability of drawing a King, Queen, or Jack: $\\frac{12}{52} = \\frac{3}{13}$\n",
    "- Probability of drawing any other card: $\\frac{36}{52} = \\frac{9}{13}$\n",
    "\n",
    "$$\n",
    "\\begin{aligned}\n",
    "E[X] &= \\left(\\frac{1}{13} \\times 15\\right) + \\left(\\frac{3}{13} \\times 5\\right) + \\left(\\frac{9}{13} \\times (-3)\\right) \\\\\n",
    "E[X] &= \\left(\\frac{15}{13}\\right) + \\left(\\frac{15}{13}\\right) + \\left(\\frac{-27}{13}\\right) \\\\\n",
    "E[X] &= \\frac{15 + 15 - 27}{13} = \\frac{3}{13} \\\\\n",
    "E[X] &\\approx 0.23\n",
    "\\end{aligned}\n",
    "$$\n",
    "```"
   ]
  },
  {
   "cell_type": "markdown",
   "id": "9465d853",
   "metadata": {},
   "source": [
    "### Advanced Extension Problems \n",
    "\n",
    "#### Roulette Game\n",
    "You bet \\$1 on a single number in a game of American Roulette. If the ball lands on your number, you win \\$35; otherwise, you lose your bet. There are 38 slots on an American Roulette wheel (numbers 1-36, 0, and 00). What is the expected value of this bet?\n",
    "\n",
    "#### Insurance Policy\n",
    "An insurance company sells a one-year term life insurance policy for \\$500 to a healthy 30-year-old. The policy pays \\$100,000 in case of death within the year. The probability of a healthy 30-year-old dying within a year is 0.001. What is the expected profit for the insurance company from selling this policy?\n",
    "\n",
    "#### Stock Investment Scenario\n",
    "Suppose you invest in a stock with three possible outcomes over a year: there is a 50% chance it will increase by 10%, a 30% chance it will decrease by 5%, and a 20% chance it will decrease by 15%. What is the expected value of the return on investment after one year?\n"
   ]
  }
 ],
 "metadata": {
  "kernelspec": {
   "display_name": "gurobi_ml",
   "language": "python",
   "name": "python3"
  },
  "language_info": {
   "name": "python",
   "version": "3.11.6"
  }
 },
 "nbformat": 4,
 "nbformat_minor": 5
}
