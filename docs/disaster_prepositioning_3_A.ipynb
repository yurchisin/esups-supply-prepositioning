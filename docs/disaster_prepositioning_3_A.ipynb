{
 "cells": [
  {
   "cell_type": "markdown",
   "id": "411b9780",
   "metadata": {},
   "source": [
    "# Introduction to Modeling Optimization Problems\n",
    "\n",
    "Before we show a few examples, here is a list of relevant resources:\n",
    "* Blog: [Optimization Modeling: The art of not making it an art](https://www.gurobi.com/resources/optimization-modeling-the-art-of-not-making-it-an-art/)\n",
    "* Video series: [Modeling with Gurobi Python](https://www.youtube.com/playlist?list=PLHiHZENG6W8CezJLx_cw9mNqpmviq3lO9)\n",
    "* Collection of [Jupyter notebook modeling examples](https://www.gurobi.com/jupyter_models/)\n",
    "\n",
    "\n",
    "Now, let’s first take a general look at how optimization works. It's broken down into two main parts: **The objective function** (what we want to solve), and the **constraints** (what limits our input).\n",
    "\n",
    "The **objective function** tells the program what we want to do, think maximizing profit or minimizing travel time. Let's say in this example, you're buying $x$ hotdogs and $y$ soda cans. You like both equally, and you want as much as possible. So, our **objective function** would look like this:\n",
    "\n",
    "$$\\text{Maximize} \\quad x\t+\ty $$\n",
    "\n",
    "Now we obviously would want to just make both x and y infinite, but in the real world that obviously isn't allowed, so we need a way to **constrain** the objective function. Let's say in this example a hotdog cost $3 and a soda costs $1.50 and you don't want to spend more than $20. We would write:"
   ]
  },
  {
   "cell_type": "markdown",
   "id": "d1309c44",
   "metadata": {},
   "source": [
    "\\begin{aligned}\n",
    "3 x\t+ 1.50 y & \\leq 20 & \\\\\n",
    "x\t \t \t& \\ge 0 & \\\\\n",
    "y\t \t \t& \\ge 0 & \\\\\n",
    "\\end{aligned}\n",
    "\n",
    "Putting these together we would typically write the final model formulation as:\n",
    "\n",
    "\\begin{aligned}\n",
    "\\text{Maximize}\t\\quad x\t+\ty & \\\\\n",
    "3 x\t+ 1.50 y \t& \\le 20 \\\\\n",
    "x\t \t \t& \\ge \t0 \\\\\n",
    "y\t \t \t& \\ge \t0 \\\\\n",
    "\\end{aligned}\n",
    "\n",
    "If you're intimidated by the math don't worry, the notation is a formal way to ask how much to buy. Just like machine learning algorithms, while the underlying math can be intimidating, actually applying it is much easier as most of that is abstracted away by the API."
   ]
  },
  {
   "cell_type": "markdown",
   "id": "8af23054",
   "metadata": {},
   "source": [
    "## Building a Mathematical Optimization Model - Example 1\n",
    "So how do we go about solving this? It's easy, there are five steps:"
   ]
  },
  {
   "cell_type": "markdown",
   "id": "0e16f41c",
   "metadata": {},
   "source": [
    "### 1. Instantiate The Solver"
   ]
  },
  {
   "cell_type": "code",
   "execution_count": 1,
   "id": "0a0e0f3f",
   "metadata": {},
   "outputs": [
    {
     "name": "stdout",
     "output_type": "stream",
     "text": [
      "Restricted license - for non-production use only - expires 2025-11-24\n"
     ]
    }
   ],
   "source": [
    "import gurobipy as gp\n",
    "from gurobipy import GRB\n",
    "\n",
    "model_1 = gp.Model()"
   ]
  },
  {
   "cell_type": "markdown",
   "id": "256ec264",
   "metadata": {},
   "source": [
    "### 2. Add Our variables\n",
    "\n",
    "Note that we add bounds for the variables directly in their definition. In this way, we do not need constraints to define them."
   ]
  },
  {
   "cell_type": "code",
   "execution_count": 2,
   "id": "a2b3b87c",
   "metadata": {},
   "outputs": [],
   "source": [
    "# Create variables\n",
    "x = model_1.addVar(vtype=GRB.INTEGER, lb=0, name=\"hotdogs\")\n",
    "y = model_1.addVar(vtype=GRB.INTEGER, lb=0, name=\"sodacans\")"
   ]
  },
  {
   "cell_type": "markdown",
   "id": "9bf7e138",
   "metadata": {},
   "source": [
    "### 3. Add Our Constraints"
   ]
  },
  {
   "cell_type": "code",
   "execution_count": 3,
   "id": "666fe377",
   "metadata": {},
   "outputs": [
    {
     "data": {
      "text/plain": [
       "<gurobi.Constr *Awaiting Model Update*>"
      ]
     },
     "execution_count": 3,
     "metadata": {},
     "output_type": "execute_result"
    }
   ],
   "source": [
    "model_1.addConstr(3 * x + 1.5 * y <= 20)"
   ]
  },
  {
   "cell_type": "markdown",
   "id": "9e791841",
   "metadata": {},
   "source": [
    "### 4. Add Our Objective Function"
   ]
  },
  {
   "cell_type": "code",
   "execution_count": 4,
   "id": "cc8e68ef",
   "metadata": {},
   "outputs": [],
   "source": [
    "# Set objective\n",
    "model_1.setObjective(x + y, GRB.MAXIMIZE)"
   ]
  },
  {
   "cell_type": "markdown",
   "id": "43ba7c8b",
   "metadata": {},
   "source": [
    "### 5. Solve!"
   ]
  },
  {
   "cell_type": "code",
   "execution_count": 5,
   "id": "e379843e",
   "metadata": {},
   "outputs": [
    {
     "name": "stdout",
     "output_type": "stream",
     "text": [
      "Gurobi Optimizer version 11.0.3 build v11.0.3rc0 (mac64[rosetta2] - Darwin 24.4.0 24E263)\n",
      "\n",
      "CPU model: Apple M1\n",
      "Thread count: 8 physical cores, 8 logical processors, using up to 8 threads\n",
      "\n",
      "Optimize a model with 1 rows, 2 columns and 2 nonzeros\n",
      "Model fingerprint: 0x6cbf540c\n",
      "Variable types: 0 continuous, 2 integer (0 binary)\n",
      "Coefficient statistics:\n",
      "  Matrix range     [2e+00, 3e+00]\n",
      "  Objective range  [1e+00, 1e+00]\n",
      "  Bounds range     [0e+00, 0e+00]\n",
      "  RHS range        [2e+01, 2e+01]\n",
      "Found heuristic solution: objective 7.0000000\n",
      "Presolve removed 1 rows and 2 columns\n",
      "Presolve time: 0.06s\n",
      "Presolve: All rows and columns removed\n",
      "\n",
      "Explored 0 nodes (0 simplex iterations) in 0.08 seconds (0.00 work units)\n",
      "Thread count was 1 (of 8 available processors)\n",
      "\n",
      "Solution count 2: 13 7 \n",
      "\n",
      "Optimal solution found (tolerance 1.00e-04)\n",
      "Best objective 1.300000000000e+01, best bound 1.300000000000e+01, gap 0.0000%\n"
     ]
    }
   ],
   "source": [
    "# Optimize model\n",
    "model_1.optimize()"
   ]
  },
  {
   "cell_type": "markdown",
   "id": "73ba067e",
   "metadata": {},
   "source": [
    "From here we can get all the variables in the model and print their values:"
   ]
  },
  {
   "cell_type": "code",
   "execution_count": 6,
   "id": "047895e0",
   "metadata": {},
   "outputs": [
    {
     "name": "stdout",
     "output_type": "stream",
     "text": [
      "hotdogs: -0\n",
      "sodacans: 13\n",
      "Obj: 13\n"
     ]
    }
   ],
   "source": [
    "# Show Solution\n",
    "for v in model_1.getVars():\n",
    "    print(\"%s: %g\" % (v.VarName, v.X))\n",
    "print(\"Obj: %g\" % model_1.ObjVal)"
   ]
  },
  {
   "cell_type": "markdown",
   "id": "9068c8d6",
   "metadata": {},
   "source": [
    "## Building a Mathematical Optimization Model - Example 2"
   ]
  },
  {
   "cell_type": "markdown",
   "id": "3910f1e7",
   "metadata": {},
   "source": [
    "This solution is optimal in the sense that we got the maximal number of items. However, we only got sodacans. This is actually not surprising since a sodacan is cheaper than a hotdog, so we can get more items with our budget of 20 dollars.\n",
    "\n",
    "There are a few ways to adapt the model to obtain at least some hotdogs:\n",
    "* We could add an upper limit of 5 on the number of hotdogs and sodacans.\n",
    "* We could favor the selection of hotdogs by giving it a 3x larger reward in the objective function.\n",
    "\n",
    "Both changes are reflected in the following model:"
   ]
  },
  {
   "cell_type": "code",
   "execution_count": 7,
   "id": "647b2bfc",
   "metadata": {},
   "outputs": [
    {
     "name": "stdout",
     "output_type": "stream",
     "text": [
      "Gurobi Optimizer version 11.0.3 build v11.0.3rc0 (mac64[rosetta2] - Darwin 24.4.0 24E263)\n",
      "\n",
      "CPU model: Apple M1\n",
      "Thread count: 8 physical cores, 8 logical processors, using up to 8 threads\n",
      "\n",
      "Optimize a model with 1 rows, 2 columns and 2 nonzeros\n",
      "Model fingerprint: 0xf79cdaec\n",
      "Variable types: 0 continuous, 2 integer (0 binary)\n",
      "Coefficient statistics:\n",
      "  Matrix range     [2e+00, 3e+00]\n",
      "  Objective range  [1e+00, 3e+00]\n",
      "  Bounds range     [5e+00, 5e+00]\n",
      "  RHS range        [2e+01, 2e+01]\n",
      "Found heuristic solution: objective 18.0000000\n",
      "Presolve removed 1 rows and 2 columns\n",
      "Presolve time: 0.00s\n",
      "Presolve: All rows and columns removed\n",
      "\n",
      "Explored 0 nodes (0 simplex iterations) in 0.02 seconds (0.00 work units)\n",
      "Thread count was 1 (of 8 available processors)\n",
      "\n",
      "Solution count 1: 18 \n",
      "\n",
      "Optimal solution found (tolerance 1.00e-04)\n",
      "Best objective 1.800000000000e+01, best bound 1.800000000000e+01, gap 0.0000%\n"
     ]
    }
   ],
   "source": [
    "model_2 = gp.Model()\n",
    "\n",
    "# Create variables\n",
    "x = model_2.addVar(vtype=GRB.INTEGER, lb=0, ub=5, name=\"x\")\n",
    "y = model_2.addVar(vtype=GRB.INTEGER, lb=0, ub=5, name=\"y\")\n",
    "\n",
    "# add constraints\n",
    "model_2.addConstr(3 * x + 1.5 * y <= 20, \"c1\")\n",
    "\n",
    "model_2.setObjective(3 * x + y, GRB.MAXIMIZE)\n",
    "\n",
    "model_2.optimize()"
   ]
  },
  {
   "cell_type": "code",
   "execution_count": 8,
   "id": "3bc99539",
   "metadata": {},
   "outputs": [
    {
     "name": "stdout",
     "output_type": "stream",
     "text": [
      "x 5\n",
      "y 3\n",
      "Obj: 18\n"
     ]
    }
   ],
   "source": [
    "# Show Solution\n",
    "for v in model_2.getVars():\n",
    "    print(\"%s %g\" % (v.VarName, v.X))\n",
    "print(\"Obj: %g\" % model_2.ObjVal)"
   ]
  },
  {
   "cell_type": "markdown",
   "id": "ecfeb74a",
   "metadata": {},
   "source": [
    "Now, we got both hotdogs and sodacans!"
   ]
  },
  {
   "cell_type": "markdown",
   "id": "2ff1ef7c",
   "metadata": {},
   "source": [
    "### Now you Try!\n",
    "\n",
    "Now that we've introduced the basics, let's try some more problems. They look slightly different from our first example, but hopefully, they'll help you to identify the objective function and constraints. There are some practice questions to help you along as you go, so don't be afraid to make guesses and experiment!"
   ]
  },
  {
   "cell_type": "markdown",
   "id": "c777b59b",
   "metadata": {},
   "source": [
    "## Practice Problem 1"
   ]
  },
  {
   "cell_type": "markdown",
   "id": "49193e49",
   "metadata": {},
   "source": [
    "Problem Statement: Imagine you are managing disaster relief efforts, and you need to allocate resources between two critical supplies: water bottles ($w$) and emergency food packs ($f$). Your goal is to maximize the number of relief items delivered to an affected area.\n",
    "\n",
    "- Each water bottle provides essential hydration and is valued at 3 units of relief.\n",
    "- Each food pack provides vital nutrition and is valued at 5 units of relief.\n",
    "\n",
    "However, you face the following constraints:\n",
    "\n",
    "1.\tYou have a total cargo space that can carry up to 100 units.\n",
    "2.\tEach water bottle takes up 2 units of cargo space.\n",
    "3.\tEach food pack takes up 4 units of cargo space."
   ]
  },
  {
   "cell_type": "code",
   "execution_count": 9,
   "id": "b43a4100",
   "metadata": {},
   "outputs": [],
   "source": [
    "#problem_1()"
   ]
  },
  {
   "cell_type": "markdown",
   "id": "94659fa2",
   "metadata": {},
   "source": [
    "Great, now try to implement it! Remember you can always look back at the last section if you get stuck.  We also have the answer key available as you scroll further down (so try not to read ahead)!"
   ]
  },
  {
   "cell_type": "markdown",
   "id": "07189d0a",
   "metadata": {},
   "source": [
    "### 1. Instantiate The Solver"
   ]
  },
  {
   "cell_type": "code",
   "execution_count": 10,
   "id": "77fbea48",
   "metadata": {},
   "outputs": [],
   "source": [
    "# Instantiate Here"
   ]
  },
  {
   "cell_type": "markdown",
   "id": "72057b89",
   "metadata": {},
   "source": [
    "### 2. Add the Variables"
   ]
  },
  {
   "cell_type": "code",
   "execution_count": 11,
   "id": "0cc9c0d8",
   "metadata": {},
   "outputs": [],
   "source": [
    "# Add Vars Here"
   ]
  },
  {
   "cell_type": "markdown",
   "id": "65aa30f8",
   "metadata": {},
   "source": [
    "### 3. Add the Constraints"
   ]
  },
  {
   "cell_type": "code",
   "execution_count": 12,
   "id": "017d7b30",
   "metadata": {},
   "outputs": [],
   "source": [
    "# Add Constraints Here"
   ]
  },
  {
   "cell_type": "markdown",
   "id": "8b9dfb78",
   "metadata": {},
   "source": [
    "### 4. Add the Objective Function"
   ]
  },
  {
   "cell_type": "code",
   "execution_count": 13,
   "id": "8c500a64",
   "metadata": {},
   "outputs": [],
   "source": [
    "# Add Obj. Func. Here"
   ]
  },
  {
   "cell_type": "markdown",
   "id": "55978467",
   "metadata": {},
   "source": [
    "### 5. Solve!"
   ]
  },
  {
   "cell_type": "code",
   "execution_count": 14,
   "id": "9f96b9da",
   "metadata": {},
   "outputs": [],
   "source": [
    "# Solve Here!"
   ]
  },
  {
   "cell_type": "markdown",
   "id": "494c8383",
   "metadata": {},
   "source": [
    "#### Practice Problem 1 Answer Key"
   ]
  },
  {
   "cell_type": "markdown",
   "id": "84974da3",
   "metadata": {},
   "source": [
    "Remember, this is one possible solution, just because your code doesn't look identical, doesn't mean it's wrong!"
   ]
  },
  {
   "cell_type": "code",
   "execution_count": 15,
   "id": "0dd6a418",
   "metadata": {},
   "outputs": [
    {
     "name": "stdout",
     "output_type": "stream",
     "text": [
      "Gurobi Optimizer version 11.0.3 build v11.0.3rc0 (mac64[rosetta2] - Darwin 24.4.0 24E263)\n",
      "\n",
      "CPU model: Apple M1\n",
      "Thread count: 8 physical cores, 8 logical processors, using up to 8 threads\n",
      "\n",
      "Optimize a model with 1 rows, 2 columns and 2 nonzeros\n",
      "Model fingerprint: 0x451e4b4f\n",
      "Variable types: 0 continuous, 2 integer (0 binary)\n",
      "Coefficient statistics:\n",
      "  Matrix range     [2e+00, 4e+00]\n",
      "  Objective range  [3e+00, 5e+00]\n",
      "  Bounds range     [0e+00, 0e+00]\n",
      "  RHS range        [1e+02, 1e+02]\n",
      "Found heuristic solution: objective 150.0000000\n",
      "Presolve removed 1 rows and 2 columns\n",
      "Presolve time: 0.00s\n",
      "Presolve: All rows and columns removed\n",
      "\n",
      "Explored 0 nodes (0 simplex iterations) in 0.01 seconds (0.00 work units)\n",
      "Thread count was 1 (of 8 available processors)\n",
      "\n",
      "Solution count 1: 150 \n",
      "\n",
      "Optimal solution found (tolerance 1.00e-04)\n",
      "Best objective 1.500000000000e+02, best bound 1.500000000000e+02, gap 0.0000%\n",
      "Optimal number of Water Bottles (w): 50\n",
      "Optimal number of Food Packs (f): 0\n",
      "Maximum Relief Value: 150.0\n"
     ]
    }
   ],
   "source": [
    "# 1 Instantiate The Solver\n",
    "model = gp.Model(\"DisasterReliefAllocation\")\n",
    "\n",
    "# 2 Add the variables for the number of water bottles (w) and food packs (f)\n",
    "w = model.addVar(vtype=GRB.INTEGER, lb=0, name=\"WaterBottles\")\n",
    "f = model.addVar(vtype=GRB.INTEGER, lb=0, name=\"FoodPacks\")\n",
    "\n",
    "# 3 Add the constraint for the total cargo space\n",
    "model.addConstr(2 * w + 4 * f <= 100, \"CargoSpace\")\n",
    "\n",
    "# 4 Add the objective function: Maximize the total value of relief items\n",
    "model.setObjective(3 * w + 5 * f, GRB.MAXIMIZE)\n",
    "\n",
    "# 5 Optimize the model\n",
    "model.optimize()\n",
    "\n",
    "# Print the optimal solution\n",
    "if model.status == GRB.OPTIMAL:\n",
    "    print(f\"Optimal number of Water Bottles (w): {int(w.x)}\")\n",
    "    print(f\"Optimal number of Food Packs (f): {int(f.x)}\")\n",
    "    print(f\"Maximum Relief Value: {model.objVal}\")\n",
    "else:\n",
    "    print(\"No optimal solution found.\")"
   ]
  },
  {
   "cell_type": "markdown",
   "id": "a59774c7",
   "metadata": {},
   "source": [
    "## Practice Problem 2\n",
    "\n",
    "- **Note:** The following example is based on examples from [Gurobi’s MOOC for Udemy](https://www.gurobi.com/resources/intro-to-optimization-through-the-lens-of-data-science/)\n",
    "\n",
    "A non-govermental-organization (NGO) and a manufacturing firm are partnering up to produce supplies to prepare for hurricane season. The NGO predicts that there will be a maximum demand of up to 100 packs of blankets, 70 packs of towels, and 40 packs of sleeping bags. Let's say making these items requires two precision machining steps: weaving and packaging. The table below shows how many minutes are to produce each type of disaster relief item:\n",
    "\n",
    "|          | Weaving    | Packaging | \n",
    "| -------- | ------- | -------|\n",
    "| Blankets  | 10    |15   |\n",
    "| Towels | 8    |18  |\n",
    "| Sleeping Bags    | 12    |17   |\n",
    "\n",
    "To allow for maintenance and downtime, the company does not want to run its machines beyond a certain limit. The total time available on the machines is 2,500 hours for weaving and 2,000 hours for packaging.\n",
    "Once items are manufactured, they go to a quality control tester. They are contracted to test exactly 150 items for this upcoming season, no more and no less. Therefore, the company must manufacture exactly 150 items.\n",
    "Now for the final step, let's consider how many people each pack of items can satisfy:\n",
    "\n",
    "|          | People Served     | \n",
    "| -------- | ------- |\n",
    "| Blankets  | 6   |\n",
    "| Towels | 7   |\n",
    "| Sleeping Bags    | 10  |"
   ]
  },
  {
   "cell_type": "code",
   "execution_count": 16,
   "id": "f103bc03",
   "metadata": {},
   "outputs": [],
   "source": [
    "# Implement your solution here"
   ]
  },
  {
   "cell_type": "markdown",
   "id": "54c19eb4",
   "metadata": {},
   "source": [
    "### Problem 2 Answer Key"
   ]
  },
  {
   "cell_type": "code",
   "execution_count": 17,
   "id": "79e127d9",
   "metadata": {},
   "outputs": [
    {
     "name": "stdout",
     "output_type": "stream",
     "text": [
      "Gurobi Optimizer version 11.0.3 build v11.0.3rc0 (mac64[rosetta2] - Darwin 24.4.0 24E263)\n",
      "\n",
      "CPU model: Apple M1\n",
      "Thread count: 8 physical cores, 8 logical processors, using up to 8 threads\n",
      "\n",
      "Optimize a model with 6 rows, 3 columns and 12 nonzeros\n",
      "Model fingerprint: 0x00f9ccc8\n",
      "Variable types: 0 continuous, 3 integer (0 binary)\n",
      "Coefficient statistics:\n",
      "  Matrix range     [1e+00, 2e+01]\n",
      "  Objective range  [6e+00, 1e+01]\n",
      "  Bounds range     [0e+00, 0e+00]\n",
      "  RHS range        [4e+01, 2e+03]\n",
      "Presolve removed 6 rows and 3 columns\n",
      "Presolve time: 0.00s\n",
      "Presolve: All rows and columns removed\n",
      "\n",
      "Explored 0 nodes (0 simplex iterations) in 0.06 seconds (0.00 work units)\n",
      "Thread count was 1 (of 8 available processors)\n",
      "\n",
      "Solution count 1: 1083 \n",
      "\n",
      "Optimal solution found (tolerance 1.00e-04)\n",
      "Best objective 1.083000000000e+03, best bound 1.083000000000e+03, gap 0.0000%\n"
     ]
    }
   ],
   "source": [
    "m = gp.Model(\"instrument\")\n",
    "\n",
    "# make decision variables: this is the qunatity of each instrument\n",
    "x = m.addVars(3, vtype=GRB.INTEGER, name=\"x\")\n",
    "m.setObjective(6 * x[0] + 7 * x[1] + 10 * x[2], GRB.MAXIMIZE)\n",
    "\n",
    "m.addConstr(10 * x[0] + 8 * x[1] + 12 * x[2] <= 2000, name=\"Weaving\")\n",
    "m.addConstr(15 * x[0] + 18 * x[1] + 17 * x[2] <= 2400, name=\"Packaging\")\n",
    "m.addConstr(x.sum() == 150, name=\"Total_Supplies\")\n",
    "\n",
    "m.addConstr(x[0] <= 100, name=\"max_100_Blankets_demand\")\n",
    "m.addConstr(x[1] <= 70, name=\"max_70_Towels_demand\")\n",
    "m.addConstr(x[2] <= 40, name=\"max_40_SleepBags_demand\")\n",
    "m.optimize()"
   ]
  },
  {
   "cell_type": "code",
   "execution_count": 18,
   "id": "82a11097",
   "metadata": {},
   "outputs": [
    {
     "name": "stdout",
     "output_type": "stream",
     "text": [
      "x[0] 87\n",
      "x[1] 23\n",
      "x[2] 40\n",
      "Obj: 1083\n",
      "Number of items: 150.0\n"
     ]
    }
   ],
   "source": [
    "# Show Solution\n",
    "n_total = 0\n",
    "for v in m.getVars():\n",
    "    print(\"%s %g\" % (v.VarName, v.X))\n",
    "    n_total += v.X\n",
    "print(\"Obj: %g\" % m.ObjVal)\n",
    "print(f\"Number of items: {n_total}\")"
   ]
  }
 ],
 "metadata": {
  "kernelspec": {
   "display_name": "gurobi_ml",
   "language": "python",
   "name": "python3"
  },
  "language_info": {
   "codemirror_mode": {
    "name": "ipython",
    "version": 3
   },
   "file_extension": ".py",
   "mimetype": "text/x-python",
   "name": "python",
   "nbconvert_exporter": "python",
   "pygments_lexer": "ipython3",
   "version": "3.11.6"
  }
 },
 "nbformat": 4,
 "nbformat_minor": 5
}
